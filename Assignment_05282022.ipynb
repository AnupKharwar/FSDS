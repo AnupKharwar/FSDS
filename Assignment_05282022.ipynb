{
 "cells": [
  {
   "cell_type": "code",
   "execution_count": 1,
   "id": "231b514e",
   "metadata": {},
   "outputs": [
    {
     "name": "stdout",
     "output_type": "stream",
     "text": [
      "\n",
      " ineuron\n",
      " ineuron ineuron\n",
      " ineuron ineuron ineuron\n",
      " ineuron ineuron ineuron ineuron\n"
     ]
    }
   ],
   "source": [
    "# Q1:\n",
    "for i in range(0,5):\n",
    "    fsds=\"\"\n",
    "    for j in  range(0,i):\n",
    "        \n",
    "        fsds = fsds + \" \" + \"ineuron\"\n",
    "  \n",
    "    print(fsds)"
   ]
  },
  {
   "cell_type": "code",
   "execution_count": 2,
   "id": "798c79ea",
   "metadata": {},
   "outputs": [
    {
     "name": "stdout",
     "output_type": "stream",
     "text": [
      "       ineoron        ineoron        ineoron        ineoron        \r\n",
      "              ineoron        ineoron        ineoron        \r\n",
      "                     ineoron        ineoron        \r\n",
      "                            ineoron        \r\n",
      "                            ineoron        \r\n",
      "                     ineoron        ineoron        \r\n",
      "              ineoron        ineoron        ineoron        \r\n",
      "       ineoron        ineoron        ineoron        ineoron        \r\n"
     ]
    }
   ],
   "source": [
    "# Q2: \n",
    "\n",
    "n=3\n",
    "    \n",
    "k = 1\n",
    "for i in range(n, -1 , -1):\n",
    "    for j in range(k , 0 , -1):\n",
    "        print(end=\"       \")\n",
    "    k = k + 1    \n",
    "    for j in range(0, i+1):\n",
    "        print(\"ineoron \" , end=\"       \")\n",
    "    print(\"\\r\")\n",
    "k = 4\n",
    "for i in range(0 , n+1):\n",
    "    for j in range(0 , k):\n",
    "        print(end=\"       \")\n",
    "    k = k - 1\n",
    "    for j in range(0, i + 1):\n",
    "         print(\"ineoron \", end=\"       \")\n",
    "    print(\"\\r\")\n",
    "    \n",
    "# Took help from Internet    "
   ]
  },
  {
   "cell_type": "code",
   "execution_count": 3,
   "id": "fe7cc955",
   "metadata": {},
   "outputs": [
    {
     "data": {
      "text/plain": [
       "[[1, 2, 3, 4],\n",
       " (2, 3, 4, 5),\n",
       " (3, 4, 5, 6, 7),\n",
       " {4, 5, 23, 45},\n",
       " {'k1': 'sudh', 'k2': 'ineuron', 'k3': 'kumar', 3: 6, 7: 8},\n",
       " ['ineuron', 'data science']]"
      ]
     },
     "execution_count": 3,
     "metadata": {},
     "output_type": "execute_result"
    }
   ],
   "source": [
    "l=[[1,2,3,4],(2,3,4,5),(3,4,5,6,7),set([23,4,5,45,4,4,5,45,45,4,5]),{'k1':\"yugal\",\"k2\":\"Ntt\",\"k3\":\"kumar\",3:6,7:8},[\"ntt\",\"MCM\"]]\n",
    "l"
   ]
  },
  {
   "cell_type": "code",
   "execution_count": 4,
   "id": "c3963dba",
   "metadata": {},
   "outputs": [
    {
     "name": "stdout",
     "output_type": "stream",
     "text": [
      "[1, 2, 3, 4]\n",
      "(2, 3, 4, 5)\n",
      "(3, 4, 5, 6, 7)\n",
      "{45, 4, 5, 23}\n",
      "{'k1': 'sudh', 'k2': 'ineuron', 'k3': 'kumar', 3: 6, 7: 8}\n",
      "['ineuron', 'data science']\n"
     ]
    }
   ],
   "source": [
    "# Q3: Try to extract all the list entity\n",
    "for i in l:\n",
    "    print(i)"
   ]
  },
  {
   "cell_type": "code",
   "execution_count": 5,
   "id": "6245000a",
   "metadata": {},
   "outputs": [
    {
     "name": "stdout",
     "output_type": "stream",
     "text": [
      "{'k1': 'sudh', 'k2': 'ineuron', 'k3': 'kumar', 3: 6, 7: 8}\n"
     ]
    }
   ],
   "source": [
    "#Q4 Try to extract all the dict entries\n",
    "for i in l:\n",
    "    if type(i)==dict:\n",
    "        print(i)"
   ]
  },
  {
   "cell_type": "code",
   "execution_count": 6,
   "id": "3f4ab6c4",
   "metadata": {},
   "outputs": [
    {
     "name": "stdout",
     "output_type": "stream",
     "text": [
      "(2, 3, 4, 5)\n",
      "(3, 4, 5, 6, 7)\n"
     ]
    }
   ],
   "source": [
    "#Q5 Try to extract all the tuple entities\n",
    "for i in l:\n",
    "    if type(i) == tuple:\n",
    "        print(i)"
   ]
  },
  {
   "cell_type": "code",
   "execution_count": 7,
   "id": "021c70ec",
   "metadata": {},
   "outputs": [
    {
     "name": "stdout",
     "output_type": "stream",
     "text": [
      "1\n",
      "2\n",
      "3\n",
      "4\n",
      "2\n",
      "3\n",
      "4\n",
      "5\n",
      "3\n",
      "4\n",
      "5\n",
      "6\n",
      "7\n",
      "45\n",
      "4\n",
      "5\n",
      "23\n",
      "3\n",
      "7\n"
     ]
    }
   ],
   "source": [
    "#Q6 Try to extract all the all numerical data\n",
    "for i in l :\n",
    "#     print(i)\n",
    "    for j in i:\n",
    "#         print(j)\n",
    "        if type(j)==int:\n",
    "            print(j)"
   ]
  },
  {
   "cell_type": "code",
   "execution_count": 8,
   "id": "eee32c67",
   "metadata": {},
   "outputs": [
    {
     "name": "stdout",
     "output_type": "stream",
     "text": [
      "136\n"
     ]
    }
   ],
   "source": [
    "#Q7 Try to give summation of all numeric data\n",
    "s=0\n",
    "for i in l :\n",
    "    for j in i:\n",
    "        if type(j)==int:\n",
    "            s=s+j\n",
    "print(s)"
   ]
  },
  {
   "cell_type": "code",
   "execution_count": 9,
   "id": "4f0f16ae",
   "metadata": {},
   "outputs": [
    {
     "name": "stdout",
     "output_type": "stream",
     "text": [
      "1\n",
      "3\n",
      "3\n",
      "5\n",
      "3\n",
      "5\n",
      "7\n",
      "45\n",
      "5\n",
      "23\n",
      "3\n",
      "7\n"
     ]
    }
   ],
   "source": [
    "#Q8 Try to filter out all the odd values \n",
    "for i in l :\n",
    "    for j in i:\n",
    "        if type(j)==int and j%2!=0:\n",
    "            print(j)"
   ]
  },
  {
   "cell_type": "code",
   "execution_count": 10,
   "id": "5ece12d7",
   "metadata": {},
   "outputs": [
    {
     "name": "stdout",
     "output_type": "stream",
     "text": [
      "{'k1': 'sudh', 'k2': 'ineuron', 'k3': 'kumar', 3: 6, 7: 8} : ineuron\n",
      "['ineuron', 'data science'] : ineuron\n"
     ]
    }
   ],
   "source": [
    "#Q9: Try to extract ineoron out of this list\n",
    "for i in l :\n",
    "    for j in i:\n",
    "#         print(i)\n",
    "        if j==\"ineuron\":\n",
    "            print(i,\":\",j)\n",
    "    if type(i)==dict:\n",
    "        for k in i:\n",
    "            if(i[k]==\"ineuron\"):\n",
    "                print(i,\":\",i[k])"
   ]
  },
  {
   "cell_type": "code",
   "execution_count": 11,
   "id": "aa9dc2af",
   "metadata": {},
   "outputs": [
    {
     "name": "stdout",
     "output_type": "stream",
     "text": [
      "Occurance of  1  is :  1\n",
      "Occurance of  2  is :  2\n",
      "Occurance of  3  is :  3\n",
      "Occurance of  4  is :  4\n",
      "Occurance of  5  is :  3\n",
      "Occurance of  6  is :  2\n",
      "Occurance of  7  is :  1\n",
      "Occurance of  8  is :  1\n",
      "Occurance of  data science  is :  1\n",
      "Occurance of  ineuron  is :  2\n",
      "Occurance of  45  is :  1\n",
      "Occurance of  kumar  is :  1\n",
      "Occurance of  23  is :  1\n",
      "Occurance of  sudh  is :  1\n"
     ]
    }
   ],
   "source": [
    "#Q10:Try to find out the number of occurence of all the data\n",
    "L1=[]\n",
    "for i in l:\n",
    "    for j in i:\n",
    "        if(type(i)!=dict):\n",
    "#             print(i)\n",
    "            L1.append(j)\n",
    "        else:\n",
    "            L1.append(i[j])\n",
    "   \n",
    "L2=set(L1)\n",
    "for x in L2:\n",
    "    print(\"Occurance of \",x,\" is : \",L1.count(x))"
   ]
  },
  {
   "cell_type": "code",
   "execution_count": 12,
   "id": "5cebdc93",
   "metadata": {},
   "outputs": [
    {
     "name": "stdout",
     "output_type": "stream",
     "text": [
      "k1\n",
      "k2\n",
      "k3\n",
      "3\n",
      "7\n",
      "No of keys :  5\n"
     ]
    }
   ],
   "source": [
    "#Q11 Try to find out No of keys in Dict\n",
    "x=0\n",
    "for i in l:\n",
    "    for j in i:\n",
    "        if type(i)==dict:\n",
    "            print(j)\n",
    "            x=x+1\n",
    "print(\"No of keys : \",x)"
   ]
  },
  {
   "cell_type": "code",
   "execution_count": 13,
   "id": "7115306f",
   "metadata": {},
   "outputs": [
    {
     "name": "stdout",
     "output_type": "stream",
     "text": [
      "['k1', 'sudh', 'k2', 'ineuron', 'k3', 'kumar', 'ineuron', 'data science']\n"
     ]
    }
   ],
   "source": [
    "#Q12 : Try to filter out all string\n",
    "s=[]\n",
    "for i in l:\n",
    "    for j in i:\n",
    "        if(type(j)==str):\n",
    "            s.append(j)\n",
    "        if(type(i)==dict and type(i[j])==str):\n",
    "            s.append(i[j])\n",
    "print(s)"
   ]
  },
  {
   "cell_type": "code",
   "execution_count": 14,
   "id": "57313a8f",
   "metadata": {},
   "outputs": [
    {
     "data": {
      "text/plain": [
       "['k1', 'sudh', 'k2', 'ineuron', 'k3', 'kumar', 'ineuron']"
      ]
     },
     "execution_count": 14,
     "metadata": {},
     "output_type": "execute_result"
    }
   ],
   "source": [
    "#Q13: Try to find out alphanumin data\n",
    "r=[]\n",
    "for i in l:\n",
    "    for j in i:\n",
    "#         print(j)\n",
    "        if(type(j)==str and str(j).isalnum()==True):\n",
    "            r.append(j)\n",
    "        if(type(i)==dict and str(i[j]).isalnum()==True and type(i[j])==str):\n",
    "            r.append(i[j])\n",
    "r"
   ]
  },
  {
   "cell_type": "code",
   "execution_count": 15,
   "id": "6007c3b6",
   "metadata": {},
   "outputs": [
    {
     "name": "stdout",
     "output_type": "stream",
     "text": [
      "Multiplication of  1 : 1\n",
      "Multiplication of  2 : 4\n",
      "Multiplication of  3 : 9\n",
      "Multiplication of  4 : 16\n",
      "Multiplication of  2 : 4\n",
      "Multiplication of  3 : 9\n",
      "Multiplication of  4 : 16\n",
      "Multiplication of  5 : 25\n",
      "Multiplication of  3 : 9\n",
      "Multiplication of  4 : 16\n",
      "Multiplication of  5 : 25\n",
      "Multiplication of  6 : 36\n",
      "Multiplication of  7 : 49\n",
      "Multiplication of  45 : 2025\n",
      "Multiplication of  4 : 16\n",
      "Multiplication of  5 : 25\n",
      "Multiplication of  23 : 529\n",
      "Multiplication of  6 : 36\n",
      "Multiplication of  8 : 64\n"
     ]
    }
   ],
   "source": [
    "# Q14 : Try to find out multiplication of all numeric value in the individual collection inside dataset\n",
    "\n",
    "for i in l:\n",
    "    for j in i:\n",
    "        if(type(i)!=dict and type(j)== int):\n",
    "            print(\"Multiplication of \",j,\":\",j*j)\n",
    "        if(type(i)==dict and type(i[j])== int):\n",
    "            print(\"Multiplication of \",i[j],\":\",i[j]*i[j])"
   ]
  },
  {
   "cell_type": "code",
   "execution_count": 16,
   "id": "2dc439af",
   "metadata": {},
   "outputs": [
    {
     "name": "stdout",
     "output_type": "stream",
     "text": [
      "[1, 2, 3, 4, 2, 3, 4, 5, 3, 4, 5, 6, 7, 45, 4, 5, 23, 'k1', 'sudh', 'k2', 'ineuron', 'k3', 'kumar', 3, 6, 7, 8, 'ineuron', 'data science']\n"
     ]
    }
   ],
   "source": [
    "#Q15: Try to unwrap all the collection inside a collection and create the flat list\n",
    "fl=[]\n",
    "for i in l:\n",
    "    for j in i:\n",
    "        fl.append(j)\n",
    "        if(type(i)==dict):\n",
    "            fl.append(i[j])\n",
    "\n",
    "print(fl) "
   ]
  },
  {
   "cell_type": "code",
   "execution_count": null,
   "id": "a86cd492",
   "metadata": {},
   "outputs": [],
   "source": []
  }
 ],
 "metadata": {
  "kernelspec": {
   "display_name": "Python 3",
   "language": "python",
   "name": "python3"
  },
  "language_info": {
   "codemirror_mode": {
    "name": "ipython",
    "version": 3
   },
   "file_extension": ".py",
   "mimetype": "text/x-python",
   "name": "python",
   "nbconvert_exporter": "python",
   "pygments_lexer": "ipython3",
   "version": "3.8.8"
  }
 },
 "nbformat": 4,
 "nbformat_minor": 5
}
