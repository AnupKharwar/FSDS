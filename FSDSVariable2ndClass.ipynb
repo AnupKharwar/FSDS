{
 "cells": [
  {
   "cell_type": "code",
   "execution_count": 1,
   "id": "c3ac1775",
   "metadata": {},
   "outputs": [],
   "source": [
    "s=\"anup\""
   ]
  },
  {
   "cell_type": "code",
   "execution_count": 2,
   "id": "c60fa6fe",
   "metadata": {},
   "outputs": [
    {
     "data": {
      "text/plain": [
       "str"
      ]
     },
     "execution_count": 2,
     "metadata": {},
     "output_type": "execute_result"
    }
   ],
   "source": [
    "type(s)"
   ]
  },
  {
   "cell_type": "code",
   "execution_count": 3,
   "id": "2ef9911f",
   "metadata": {},
   "outputs": [
    {
     "data": {
      "text/plain": [
       "'p'"
      ]
     },
     "execution_count": 3,
     "metadata": {},
     "output_type": "execute_result"
    }
   ],
   "source": [
    "s[3]"
   ]
  },
  {
   "cell_type": "code",
   "execution_count": 6,
   "id": "1a0b8db7",
   "metadata": {},
   "outputs": [
    {
     "data": {
      "text/plain": [
       "'n'"
      ]
     },
     "execution_count": 6,
     "metadata": {},
     "output_type": "execute_result"
    }
   ],
   "source": [
    "s[-3]"
   ]
  },
  {
   "cell_type": "code",
   "execution_count": 7,
   "id": "817f3416",
   "metadata": {},
   "outputs": [],
   "source": [
    "S = \"I have ram's car\""
   ]
  },
  {
   "cell_type": "code",
   "execution_count": 8,
   "id": "487c4032",
   "metadata": {},
   "outputs": [
    {
     "data": {
      "text/plain": [
       "\"I have ram's car\""
      ]
     },
     "execution_count": 8,
     "metadata": {},
     "output_type": "execute_result"
    }
   ],
   "source": [
    "S"
   ]
  },
  {
   "cell_type": "code",
   "execution_count": 9,
   "id": "09fb9388",
   "metadata": {},
   "outputs": [
    {
     "data": {
      "text/plain": [
       "' h'"
      ]
     },
     "execution_count": 9,
     "metadata": {},
     "output_type": "execute_result"
    }
   ],
   "source": [
    "S[1:3]"
   ]
  },
  {
   "cell_type": "code",
   "execution_count": 10,
   "id": "0dab8fa9",
   "metadata": {},
   "outputs": [
    {
     "data": {
      "text/plain": [
       "'I have'"
      ]
     },
     "execution_count": 10,
     "metadata": {},
     "output_type": "execute_result"
    }
   ],
   "source": [
    "S[:6]"
   ]
  },
  {
   "cell_type": "code",
   "execution_count": 11,
   "id": "6707eb47",
   "metadata": {},
   "outputs": [
    {
     "data": {
      "text/plain": [
       "\"e ram's car\""
      ]
     },
     "execution_count": 11,
     "metadata": {},
     "output_type": "execute_result"
    }
   ],
   "source": [
    "S[5:]"
   ]
  },
  {
   "cell_type": "code",
   "execution_count": 12,
   "id": "b9e98dc8",
   "metadata": {},
   "outputs": [
    {
     "data": {
      "text/plain": [
       "' aerm'"
      ]
     },
     "execution_count": 12,
     "metadata": {},
     "output_type": "execute_result"
    }
   ],
   "source": [
    "S[1:10:2]"
   ]
  },
  {
   "cell_type": "code",
   "execution_count": 13,
   "id": "6e76c9f5",
   "metadata": {},
   "outputs": [
    {
     "data": {
      "text/plain": [
       "''"
      ]
     },
     "execution_count": 13,
     "metadata": {},
     "output_type": "execute_result"
    }
   ],
   "source": [
    "S[1:10:-1]"
   ]
  },
  {
   "cell_type": "code",
   "execution_count": 14,
   "id": "d4d51dc7",
   "metadata": {},
   "outputs": [
    {
     "data": {
      "text/plain": [
       "' evah '"
      ]
     },
     "execution_count": 14,
     "metadata": {},
     "output_type": "execute_result"
    }
   ],
   "source": [
    "S[-10:0:-1]"
   ]
  },
  {
   "cell_type": "code",
   "execution_count": 15,
   "id": "fdf08628",
   "metadata": {},
   "outputs": [
    {
     "data": {
      "text/plain": [
       "\"I have ram's \""
      ]
     },
     "execution_count": 15,
     "metadata": {},
     "output_type": "execute_result"
    }
   ],
   "source": [
    "S[:-3]"
   ]
  },
  {
   "cell_type": "code",
   "execution_count": 16,
   "id": "b0447d37",
   "metadata": {},
   "outputs": [
    {
     "data": {
      "text/plain": [
       "\"I have ram's car\""
      ]
     },
     "execution_count": 16,
     "metadata": {},
     "output_type": "execute_result"
    }
   ],
   "source": [
    "S[::1]"
   ]
  },
  {
   "cell_type": "code",
   "execution_count": 17,
   "id": "c6c60dac",
   "metadata": {},
   "outputs": [
    {
     "data": {
      "text/plain": [
       "\"rac s'mar evah I\""
      ]
     },
     "execution_count": 17,
     "metadata": {},
     "output_type": "execute_result"
    }
   ],
   "source": [
    "S[::-1]"
   ]
  },
  {
   "cell_type": "code",
   "execution_count": 18,
   "id": "68a13293",
   "metadata": {},
   "outputs": [],
   "source": [
    "x = \"To make sure you do not get an error, and the value is simply ignored\""
   ]
  },
  {
   "cell_type": "code",
   "execution_count": 19,
   "id": "da34e420",
   "metadata": {},
   "outputs": [
    {
     "data": {
      "text/plain": [
       "''"
      ]
     },
     "execution_count": 19,
     "metadata": {},
     "output_type": "execute_result"
    }
   ],
   "source": [
    "x[-2:-7:1]"
   ]
  },
  {
   "cell_type": "code",
   "execution_count": 20,
   "id": "6056e1d1",
   "metadata": {},
   "outputs": [
    {
     "data": {
      "text/plain": [
       "'derongi ylpmis si eulav eht dna ,rorre na teg ton od uoy erus ekam oT'"
      ]
     },
     "execution_count": 20,
     "metadata": {},
     "output_type": "execute_result"
    }
   ],
   "source": [
    "x[::-1]"
   ]
  },
  {
   "cell_type": "code",
   "execution_count": 21,
   "id": "9911583d",
   "metadata": {},
   "outputs": [
    {
     "data": {
      "text/plain": [
       "''"
      ]
     },
     "execution_count": 21,
     "metadata": {},
     "output_type": "execute_result"
    }
   ],
   "source": [
    "x[-7:0:1]"
   ]
  },
  {
   "cell_type": "code",
   "execution_count": 22,
   "id": "fe3c3130",
   "metadata": {},
   "outputs": [
    {
     "data": {
      "text/plain": [
       "''"
      ]
     },
     "execution_count": 22,
     "metadata": {},
     "output_type": "execute_result"
    }
   ],
   "source": [
    "s[-3:0:1]"
   ]
  },
  {
   "cell_type": "code",
   "execution_count": 23,
   "id": "e83a6188",
   "metadata": {},
   "outputs": [
    {
     "ename": "TypeError",
     "evalue": "can only concatenate str (not \"int\") to str",
     "output_type": "error",
     "traceback": [
      "\u001b[1;31m---------------------------------------------------------------------------\u001b[0m",
      "\u001b[1;31mTypeError\u001b[0m                                 Traceback (most recent call last)",
      "\u001b[1;32m<ipython-input-23-2a618fcb9031>\u001b[0m in \u001b[0;36m<module>\u001b[1;34m\u001b[0m\n\u001b[1;32m----> 1\u001b[1;33m \u001b[0ms\u001b[0m\u001b[1;33m+\u001b[0m\u001b[1;36m1\u001b[0m\u001b[1;33m\u001b[0m\u001b[1;33m\u001b[0m\u001b[0m\n\u001b[0m",
      "\u001b[1;31mTypeError\u001b[0m: can only concatenate str (not \"int\") to str"
     ]
    }
   ],
   "source": [
    "s+1"
   ]
  },
  {
   "cell_type": "code",
   "execution_count": 24,
   "id": "79140134",
   "metadata": {},
   "outputs": [
    {
     "data": {
      "text/plain": [
       "'anup1'"
      ]
     },
     "execution_count": 24,
     "metadata": {},
     "output_type": "execute_result"
    }
   ],
   "source": [
    "s+\"1\""
   ]
  },
  {
   "cell_type": "code",
   "execution_count": 25,
   "id": "404bf8d7",
   "metadata": {},
   "outputs": [
    {
     "data": {
      "text/plain": [
       "'anup1'"
      ]
     },
     "execution_count": 25,
     "metadata": {},
     "output_type": "execute_result"
    }
   ],
   "source": [
    "s + str(1)"
   ]
  },
  {
   "cell_type": "code",
   "execution_count": 26,
   "id": "f5f43f92",
   "metadata": {},
   "outputs": [
    {
     "data": {
      "text/plain": [
       "4"
      ]
     },
     "execution_count": 26,
     "metadata": {},
     "output_type": "execute_result"
    }
   ],
   "source": [
    "len(s)"
   ]
  },
  {
   "cell_type": "code",
   "execution_count": 27,
   "id": "745ea65c",
   "metadata": {},
   "outputs": [
    {
     "data": {
      "text/plain": [
       "'anupanup'"
      ]
     },
     "execution_count": 27,
     "metadata": {},
     "output_type": "execute_result"
    }
   ],
   "source": [
    "s*2"
   ]
  },
  {
   "cell_type": "code",
   "execution_count": 30,
   "id": "d4a7bb6e",
   "metadata": {},
   "outputs": [
    {
     "data": {
      "text/plain": [
       "4"
      ]
     },
     "execution_count": 30,
     "metadata": {},
     "output_type": "execute_result"
    }
   ],
   "source": [
    "x.count('a')"
   ]
  },
  {
   "cell_type": "code",
   "execution_count": 31,
   "id": "ef6e8e5c",
   "metadata": {},
   "outputs": [
    {
     "data": {
      "text/plain": [
       "0"
      ]
     },
     "execution_count": 31,
     "metadata": {},
     "output_type": "execute_result"
    }
   ],
   "source": [
    "x.count('lkj')"
   ]
  },
  {
   "cell_type": "code",
   "execution_count": 33,
   "id": "108e0111",
   "metadata": {},
   "outputs": [
    {
     "data": {
      "text/plain": [
       "['an', 'p']"
      ]
     },
     "execution_count": 33,
     "metadata": {},
     "output_type": "execute_result"
    }
   ],
   "source": [
    "s.split(\"u\")"
   ]
  },
  {
   "cell_type": "code",
   "execution_count": 35,
   "id": "1483d67e",
   "metadata": {},
   "outputs": [
    {
     "data": {
      "text/plain": [
       "['To',\n",
       " 'make',\n",
       " 'sure',\n",
       " 'you',\n",
       " 'do',\n",
       " 'not',\n",
       " 'get',\n",
       " 'an',\n",
       " 'error,',\n",
       " 'and',\n",
       " 'the',\n",
       " 'value',\n",
       " 'is',\n",
       " 'simply',\n",
       " 'ignored']"
      ]
     },
     "execution_count": 35,
     "metadata": {},
     "output_type": "execute_result"
    }
   ],
   "source": [
    "x.split(\" \")"
   ]
  },
  {
   "cell_type": "code",
   "execution_count": 37,
   "id": "427df922",
   "metadata": {},
   "outputs": [
    {
     "data": {
      "text/plain": [
       "1"
      ]
     },
     "execution_count": 37,
     "metadata": {},
     "output_type": "execute_result"
    }
   ],
   "source": [
    "x.count(\"the\")"
   ]
  },
  {
   "cell_type": "markdown",
   "id": "bb2f0241",
   "metadata": {},
   "source": [
    "Multiline string "
   ]
  },
  {
   "cell_type": "code",
   "execution_count": 38,
   "id": "ef4e3225",
   "metadata": {},
   "outputs": [],
   "source": [
    "k=\"\"\" Hi I am good\"\"\""
   ]
  },
  {
   "cell_type": "code",
   "execution_count": 39,
   "id": "c401bc34",
   "metadata": {},
   "outputs": [
    {
     "data": {
      "text/plain": [
       "' Hi I am good'"
      ]
     },
     "execution_count": 39,
     "metadata": {},
     "output_type": "execute_result"
    }
   ],
   "source": [
    "k"
   ]
  },
  {
   "cell_type": "code",
   "execution_count": 41,
   "id": "03bd6444",
   "metadata": {},
   "outputs": [
    {
     "data": {
      "text/plain": [
       "['', 'Hi', 'I', 'am', 'good']"
      ]
     },
     "execution_count": 41,
     "metadata": {},
     "output_type": "execute_result"
    }
   ],
   "source": [
    "k.split(' ')"
   ]
  },
  {
   "cell_type": "code",
   "execution_count": 42,
   "id": "87c6da3a",
   "metadata": {},
   "outputs": [
    {
     "data": {
      "text/plain": [
       "' hi i am good'"
      ]
     },
     "execution_count": 42,
     "metadata": {},
     "output_type": "execute_result"
    }
   ],
   "source": [
    "k.capitalize()"
   ]
  },
  {
   "cell_type": "code",
   "execution_count": 43,
   "id": "d120229c",
   "metadata": {},
   "outputs": [
    {
     "data": {
      "text/plain": [
       "' HI I AM GOOD'"
      ]
     },
     "execution_count": 43,
     "metadata": {},
     "output_type": "execute_result"
    }
   ],
   "source": [
    "k.upper()"
   ]
  },
  {
   "cell_type": "code",
   "execution_count": 44,
   "id": "3e6f5310",
   "metadata": {},
   "outputs": [],
   "source": [
    "k = k.upper()"
   ]
  },
  {
   "cell_type": "code",
   "execution_count": 45,
   "id": "8d34fcd6",
   "metadata": {},
   "outputs": [
    {
     "data": {
      "text/plain": [
       "' HI I AM GOOD'"
      ]
     },
     "execution_count": 45,
     "metadata": {},
     "output_type": "execute_result"
    }
   ],
   "source": [
    "k"
   ]
  },
  {
   "cell_type": "code",
   "execution_count": 46,
   "id": "dc08a33d",
   "metadata": {},
   "outputs": [
    {
     "data": {
      "text/plain": [
       "'amdn'"
      ]
     },
     "execution_count": 46,
     "metadata": {},
     "output_type": "execute_result"
    }
   ],
   "source": [
    "s = \"  amdn  \"\n",
    "s.strip()"
   ]
  },
  {
   "cell_type": "code",
   "execution_count": 49,
   "id": "aea6d240",
   "metadata": {},
   "outputs": [
    {
     "data": {
      "text/plain": [
       "'amdn  '"
      ]
     },
     "execution_count": 49,
     "metadata": {},
     "output_type": "execute_result"
    }
   ],
   "source": [
    "s.lstrip()"
   ]
  },
  {
   "cell_type": "code",
   "execution_count": 50,
   "id": "fe3e255c",
   "metadata": {},
   "outputs": [
    {
     "data": {
      "text/plain": [
       "'  amdn'"
      ]
     },
     "execution_count": 50,
     "metadata": {},
     "output_type": "execute_result"
    }
   ],
   "source": [
    "s.rstrip()"
   ]
  },
  {
   "cell_type": "code",
   "execution_count": 55,
   "id": "7ac8235a",
   "metadata": {},
   "outputs": [
    {
     "data": {
      "text/plain": [
       "'a n u p'"
      ]
     },
     "execution_count": 55,
     "metadata": {},
     "output_type": "execute_result"
    }
   ],
   "source": [
    "\" \" . join(\"anup\")"
   ]
  },
  {
   "cell_type": "code",
   "execution_count": 56,
   "id": "356666a0",
   "metadata": {},
   "outputs": [
    {
     "data": {
      "text/plain": [
       "'aZnZuZp'"
      ]
     },
     "execution_count": 56,
     "metadata": {},
     "output_type": "execute_result"
    }
   ],
   "source": [
    "\"Z\" . join(\"anup\")"
   ]
  },
  {
   "cell_type": "code",
   "execution_count": 59,
   "id": "4ca6a8cd",
   "metadata": {},
   "outputs": [
    {
     "data": {
      "text/plain": [
       "'aaaaaa  amdn  aaaaaa'"
      ]
     },
     "execution_count": 59,
     "metadata": {},
     "output_type": "execute_result"
    }
   ],
   "source": [
    "s.center(20,'a')"
   ]
  },
  {
   "cell_type": "code",
   "execution_count": 62,
   "id": "45e661f4",
   "metadata": {},
   "outputs": [
    {
     "ename": "TypeError",
     "evalue": "isupper() takes no arguments (1 given)",
     "output_type": "error",
     "traceback": [
      "\u001b[1;31m---------------------------------------------------------------------------\u001b[0m",
      "\u001b[1;31mTypeError\u001b[0m                                 Traceback (most recent call last)",
      "\u001b[1;32m<ipython-input-62-90a4a654204b>\u001b[0m in \u001b[0;36m<module>\u001b[1;34m\u001b[0m\n\u001b[1;32m----> 1\u001b[1;33m \u001b[0ms\u001b[0m\u001b[1;33m.\u001b[0m\u001b[0misupper\u001b[0m\u001b[1;33m(\u001b[0m\u001b[0ms\u001b[0m\u001b[1;33m.\u001b[0m\u001b[0mupper\u001b[0m\u001b[1;33m(\u001b[0m\u001b[1;33m)\u001b[0m\u001b[1;33m)\u001b[0m\u001b[1;33m\u001b[0m\u001b[1;33m\u001b[0m\u001b[0m\n\u001b[0m",
      "\u001b[1;31mTypeError\u001b[0m: isupper() takes no arguments (1 given)"
     ]
    }
   ],
   "source": [
    "s.isupper()"
   ]
  },
  {
   "cell_type": "code",
   "execution_count": 64,
   "id": "5e57c578",
   "metadata": {},
   "outputs": [
    {
     "data": {
      "text/plain": [
       "True"
      ]
     },
     "execution_count": 64,
     "metadata": {},
     "output_type": "execute_result"
    }
   ],
   "source": [
    "s.upper().isupper()"
   ]
  },
  {
   "cell_type": "code",
   "execution_count": 65,
   "id": "9124ce64",
   "metadata": {},
   "outputs": [
    {
     "data": {
      "text/plain": [
       "False"
      ]
     },
     "execution_count": 65,
     "metadata": {},
     "output_type": "execute_result"
    }
   ],
   "source": [
    "s.isspace()"
   ]
  },
  {
   "cell_type": "code",
   "execution_count": 66,
   "id": "6db8cd5c",
   "metadata": {},
   "outputs": [
    {
     "data": {
      "text/plain": [
       "False"
      ]
     },
     "execution_count": 66,
     "metadata": {},
     "output_type": "execute_result"
    }
   ],
   "source": [
    "s.isdigit()"
   ]
  },
  {
   "cell_type": "code",
   "execution_count": 67,
   "id": "29d94796",
   "metadata": {},
   "outputs": [],
   "source": [
    "a = \"poiuy34567\""
   ]
  },
  {
   "cell_type": "code",
   "execution_count": 68,
   "id": "5b175707",
   "metadata": {},
   "outputs": [
    {
     "data": {
      "text/plain": [
       "True"
      ]
     },
     "execution_count": 68,
     "metadata": {},
     "output_type": "execute_result"
    }
   ],
   "source": [
    "a.isalnum()"
   ]
  },
  {
   "cell_type": "code",
   "execution_count": 69,
   "id": "5c9d3caf",
   "metadata": {},
   "outputs": [
    {
     "data": {
      "text/plain": [
       "False"
      ]
     },
     "execution_count": 69,
     "metadata": {},
     "output_type": "execute_result"
    }
   ],
   "source": [
    "a.isalpha()"
   ]
  },
  {
   "cell_type": "code",
   "execution_count": 70,
   "id": "aef0de03",
   "metadata": {},
   "outputs": [
    {
     "data": {
      "text/plain": [
       "False"
      ]
     },
     "execution_count": 70,
     "metadata": {},
     "output_type": "execute_result"
    }
   ],
   "source": [
    "a.startswith(\"A\")"
   ]
  },
  {
   "cell_type": "code",
   "execution_count": 72,
   "id": "62874918",
   "metadata": {},
   "outputs": [
    {
     "data": {
      "text/plain": [
       "True"
      ]
     },
     "execution_count": 72,
     "metadata": {},
     "output_type": "execute_result"
    }
   ],
   "source": [
    "a.endswith(\"7\")"
   ]
  },
  {
   "cell_type": "code",
   "execution_count": null,
   "id": "89f068ad",
   "metadata": {},
   "outputs": [],
   "source": [
    "\"Task\""
   ]
  },
  {
   "cell_type": "code",
   "execution_count": 93,
   "id": "59198806",
   "metadata": {},
   "outputs": [],
   "source": [
    "x = \"\\19\""
   ]
  },
  {
   "cell_type": "code",
   "execution_count": 94,
   "id": "c6c856f5",
   "metadata": {},
   "outputs": [
    {
     "data": {
      "text/plain": [
       "False"
      ]
     },
     "execution_count": 94,
     "metadata": {},
     "output_type": "execute_result"
    }
   ],
   "source": [
    "x.isspace()"
   ]
  },
  {
   "cell_type": "code",
   "execution_count": null,
   "id": "1b64efad",
   "metadata": {},
   "outputs": [],
   "source": []
  }
 ],
 "metadata": {
  "kernelspec": {
   "display_name": "Python 3",
   "language": "python",
   "name": "python3"
  },
  "language_info": {
   "codemirror_mode": {
    "name": "ipython",
    "version": 3
   },
   "file_extension": ".py",
   "mimetype": "text/x-python",
   "name": "python",
   "nbconvert_exporter": "python",
   "pygments_lexer": "ipython3",
   "version": "3.8.8"
  }
 },
 "nbformat": 4,
 "nbformat_minor": 5
}
