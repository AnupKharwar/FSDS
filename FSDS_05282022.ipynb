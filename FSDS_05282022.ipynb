{
 "cells": [
  {
   "cell_type": "markdown",
   "id": "cd7d9136",
   "metadata": {},
   "source": [
    "For Loops"
   ]
  },
  {
   "cell_type": "code",
   "execution_count": 1,
   "id": "19d24090",
   "metadata": {},
   "outputs": [],
   "source": [
    "l= [1,2,3,5,\"anup\",\"kumar\",2.1]"
   ]
  },
  {
   "cell_type": "code",
   "execution_count": 5,
   "id": "d99de2c8",
   "metadata": {},
   "outputs": [
    {
     "name": "stdout",
     "output_type": "stream",
     "text": [
      "1\n",
      "2\n",
      "3\n",
      "5\n",
      "anup\n",
      "kumar\n",
      "2.1\n"
     ]
    }
   ],
   "source": [
    "for i in l:\n",
    "    print(i)"
   ]
  },
  {
   "cell_type": "code",
   "execution_count": 3,
   "id": "cda50982",
   "metadata": {},
   "outputs": [
    {
     "data": {
      "text/plain": [
       "[1, 2, 3, 5, 'anup', 'kumar', 2.1]"
      ]
     },
     "execution_count": 3,
     "metadata": {},
     "output_type": "execute_result"
    }
   ],
   "source": [
    "l[::1]"
   ]
  },
  {
   "cell_type": "code",
   "execution_count": 6,
   "id": "b60ec977",
   "metadata": {},
   "outputs": [],
   "source": [
    "for i in l : \n",
    "    pass"
   ]
  },
  {
   "cell_type": "code",
   "execution_count": 21,
   "id": "d92da440",
   "metadata": {},
   "outputs": [
    {
     "name": "stdout",
     "output_type": "stream",
     "text": [
      "a\n",
      "n\n",
      "u\n",
      "p\n",
      "k\n",
      "h\n",
      "a\n",
      "r\n",
      "w\n",
      "a\n",
      "r\n"
     ]
    }
   ],
   "source": [
    "s = \"anup kharwar\"\n",
    "for i in s:\n",
    "    if i == \" \" : \n",
    "        pass\n",
    "    else :\n",
    "        print(i)"
   ]
  },
  {
   "cell_type": "code",
   "execution_count": 12,
   "id": "9edbd7fa",
   "metadata": {},
   "outputs": [
    {
     "name": "stdout",
     "output_type": "stream",
     "text": [
      "1\n",
      "2\n",
      "3\n",
      "5\n",
      "anup\n",
      "kumar\n",
      "2.1\n",
      "else block\n"
     ]
    }
   ],
   "source": [
    "for i in l:\n",
    "    print(i)\n",
    "else:\n",
    "    print(\"else block\")\n"
   ]
  },
  {
   "cell_type": "code",
   "execution_count": 15,
   "id": "e3216898",
   "metadata": {},
   "outputs": [
    {
     "name": "stdout",
     "output_type": "stream",
     "text": [
      "1\n",
      "2\n"
     ]
    }
   ],
   "source": [
    "for i in l:\n",
    "    if i== 3:\n",
    "        break\n",
    "    print(i)\n",
    "else :\n",
    "    print(\"anything\")"
   ]
  },
  {
   "cell_type": "code",
   "execution_count": 29,
   "id": "b14cde71",
   "metadata": {},
   "outputs": [
    {
     "name": "stdout",
     "output_type": "stream",
     "text": [
      "a\n",
      "n\n",
      "u\n"
     ]
    }
   ],
   "source": [
    "s=\"anup\"\n",
    "for i in s:\n",
    "    if i==\"p\":\n",
    "        break\n",
    "    print(i)\n",
    "else :\n",
    "        print(\"done\")"
   ]
  },
  {
   "cell_type": "code",
   "execution_count": 32,
   "id": "fba78498",
   "metadata": {},
   "outputs": [
    {
     "name": "stdout",
     "output_type": "stream",
     "text": [
      "1\n",
      "2\n",
      "3\n",
      "4\n",
      "5\n",
      "6\n",
      "anup\n",
      "2.9\n"
     ]
    }
   ],
   "source": [
    "# tuple extract\n",
    "t=(1,2,3,4,5,6,\"anup\",2.9)\n",
    "for i in t:\n",
    "    print(i)"
   ]
  },
  {
   "cell_type": "code",
   "execution_count": 35,
   "id": "ce6bbb71",
   "metadata": {},
   "outputs": [
    {
     "data": {
      "text/plain": [
       "{1, 3, 4, 5, 6, 7, 'anup'}"
      ]
     },
     "execution_count": 35,
     "metadata": {},
     "output_type": "execute_result"
    }
   ],
   "source": [
    "s={1,3,4,5,6,7,3,4,\"anup\",\"anup\"}\n",
    "s"
   ]
  },
  {
   "cell_type": "code",
   "execution_count": 36,
   "id": "80b54077",
   "metadata": {},
   "outputs": [
    {
     "name": "stdout",
     "output_type": "stream",
     "text": [
      "1\n",
      "3\n",
      "4\n",
      "5\n",
      "6\n",
      "7\n",
      "anup\n"
     ]
    }
   ],
   "source": [
    "for i in s:\n",
    "    print(i)"
   ]
  },
  {
   "cell_type": "code",
   "execution_count": 37,
   "id": "9d64346d",
   "metadata": {},
   "outputs": [],
   "source": [
    "d={\"k1\":\"v1\",\"k2\":\"v2\",\"k3\":\"v3\",\"k4\":\"v4\"}"
   ]
  },
  {
   "cell_type": "code",
   "execution_count": 40,
   "id": "dfb4c3b4",
   "metadata": {},
   "outputs": [
    {
     "name": "stdout",
     "output_type": "stream",
     "text": [
      "k1 v1\n",
      "k2 v2\n",
      "k3 v3\n",
      "k4 v4\n"
     ]
    }
   ],
   "source": [
    "for i in d:\n",
    "    print(i,d[i])"
   ]
  },
  {
   "cell_type": "code",
   "execution_count": 44,
   "id": "694e40ae",
   "metadata": {},
   "outputs": [
    {
     "data": {
      "text/plain": [
       "[0, 1, 2, 3, 4, 5, 6, 7, 8]"
      ]
     },
     "execution_count": 44,
     "metadata": {},
     "output_type": "execute_result"
    }
   ],
   "source": [
    "# inbuild functin\n",
    "r = list(range(9))\n"
   ]
  },
  {
   "cell_type": "code",
   "execution_count": 48,
   "id": "2b20610e",
   "metadata": {},
   "outputs": [
    {
     "data": {
      "text/plain": [
       "[9, 8, 7, 6, 5, 4, 3, 2, 1]"
      ]
     },
     "execution_count": 48,
     "metadata": {},
     "output_type": "execute_result"
    }
   ],
   "source": [
    "r=list(range(0,9,1))\n",
    "r=list(range(9,0,-1))\n",
    "r"
   ]
  },
  {
   "cell_type": "code",
   "execution_count": 50,
   "id": "6a9f6019",
   "metadata": {},
   "outputs": [
    {
     "name": "stdout",
     "output_type": "stream",
     "text": [
      "anup \n",
      "\n",
      "anup anup \n",
      "\n",
      "anup anup anup \n",
      "\n",
      "anup anup anup anup \n",
      "\n"
     ]
    }
   ],
   "source": [
    "n=4\n",
    "for i in range(4):\n",
    "    for j in range(0,i+1):\n",
    "        print(\"anup\",end=\" \")\n",
    "    print(\"\\n\")"
   ]
  },
  {
   "cell_type": "code",
   "execution_count": 51,
   "id": "3f6dbaf6",
   "metadata": {},
   "outputs": [
    {
     "name": "stdout",
     "output_type": "stream",
     "text": [
      "anup\n",
      "anup\n",
      "anup\n",
      "anup\n"
     ]
    }
   ],
   "source": [
    "l=[1,2,3,4]\n",
    "for i in l:\n",
    "    print(\"anup\")"
   ]
  },
  {
   "cell_type": "code",
   "execution_count": 125,
   "id": "029bf324",
   "metadata": {},
   "outputs": [
    {
     "name": "stdout",
     "output_type": "stream",
     "text": [
      "0 0\n",
      "0 1\n",
      "0 2\n",
      "1 0\n",
      "1 1\n",
      "1 2\n",
      "2 0\n",
      "2 1\n",
      "2 2\n"
     ]
    }
   ],
   "source": [
    "n=3\n",
    "for i in range(n):\n",
    "    for j in range(n):\n",
    "        print(i,end = \" \")\n",
    "        print(j)\n",
    "        \n",
    "    \n",
    "      \n",
    "\n",
    "    "
   ]
  },
  {
   "cell_type": "code",
   "execution_count": 70,
   "id": "b748902f",
   "metadata": {},
   "outputs": [
    {
     "name": "stdout",
     "output_type": "stream",
     "text": [
      "      "
     ]
    }
   ],
   "source": [
    "n=3\n",
    "for i in range(n):\n",
    "    for j in range(i,n-1):\n",
    "        print(\" \"*len(\"A\"),end=\" \")"
   ]
  },
  {
   "cell_type": "code",
   "execution_count": 76,
   "id": "0787d86e",
   "metadata": {},
   "outputs": [
    {
     "name": "stdout",
     "output_type": "stream",
     "text": [
      "0 1\n",
      "1 2\n",
      "2 3\n",
      "3 4\n",
      "4 5\n",
      "5 6\n",
      "6 68\n",
      "7 2\n"
     ]
    }
   ],
   "source": [
    "t=(1,2,3,4,5,6,68,2)\n",
    "for i in range(len(t)):\n",
    "    print(i,t[i])"
   ]
  },
  {
   "cell_type": "code",
   "execution_count": 79,
   "id": "a5c4b843",
   "metadata": {},
   "outputs": [
    {
     "name": "stdout",
     "output_type": "stream",
     "text": [
      "0 a\n",
      "1 n\n",
      "2 u\n",
      "3 p\n",
      "4 k\n",
      "5 h\n",
      "6 a\n",
      "7 r\n",
      "8 w\n",
      "9 a\n",
      "10 r\n"
     ]
    }
   ],
   "source": [
    "s=\"anupkharwar\"\n",
    "for i in range(len(s)):\n",
    "    print(i,s[i])"
   ]
  },
  {
   "cell_type": "code",
   "execution_count": 94,
   "id": "805cad9b",
   "metadata": {},
   "outputs": [
    {
     "name": "stdout",
     "output_type": "stream",
     "text": [
      "10 r\n",
      "9 a\n",
      "8 w\n",
      "7 r\n",
      "6 a\n",
      "5 h\n",
      "4 k\n",
      "3 p\n",
      "2 u\n",
      "1 n\n",
      "0 a\n"
     ]
    }
   ],
   "source": [
    "s=\"anupkharwar\"\n",
    "for i in range(len(s)-1,-1,-1):\n",
    "    print(i,s[i])"
   ]
  },
  {
   "cell_type": "code",
   "execution_count": 95,
   "id": "f4f9976a",
   "metadata": {},
   "outputs": [
    {
     "data": {
      "text/plain": [
       "{'k1': 'v1', 'k2': 'v2', 'k3': 'v3', 'k4': 'v4'}"
      ]
     },
     "execution_count": 95,
     "metadata": {},
     "output_type": "execute_result"
    }
   ],
   "source": [
    "d"
   ]
  },
  {
   "cell_type": "code",
   "execution_count": 100,
   "id": "ab666670",
   "metadata": {},
   "outputs": [
    {
     "name": "stdout",
     "output_type": "stream",
     "text": [
      "('k1', 'v1') <class 'tuple'> <class 'str'>\n",
      "('k2', 'v2') <class 'tuple'> <class 'str'>\n",
      "('k3', 'v3') <class 'tuple'> <class 'str'>\n",
      "('k4', 'v4') <class 'tuple'> <class 'str'>\n"
     ]
    }
   ],
   "source": [
    "for i in d.items():\n",
    "    print(i,type(i),type(i[1]))"
   ]
  },
  {
   "cell_type": "code",
   "execution_count": 101,
   "id": "318c67eb",
   "metadata": {},
   "outputs": [
    {
     "data": {
      "text/plain": [
       "[1, 2, 3, 4]"
      ]
     },
     "execution_count": 101,
     "metadata": {},
     "output_type": "execute_result"
    }
   ],
   "source": [
    "l"
   ]
  },
  {
   "cell_type": "code",
   "execution_count": 107,
   "id": "f7cbb7da",
   "metadata": {},
   "outputs": [],
   "source": [
    "L = [\"anup\",\"kumar\",\"a@b.com\",98772,123]\n",
    "L1=[]\n",
    "for i in L:\n",
    "    if type(i)==int:\n",
    "         L1.append(i)\n",
    "    else:\n",
    "        pass"
   ]
  },
  {
   "cell_type": "code",
   "execution_count": 109,
   "id": "47e2c220",
   "metadata": {},
   "outputs": [
    {
     "data": {
      "text/plain": [
       "[98772, 123, 'A']"
      ]
     },
     "execution_count": 109,
     "metadata": {},
     "output_type": "execute_result"
    }
   ],
   "source": [
    "L1+[\"A\"]"
   ]
  },
  {
   "cell_type": "code",
   "execution_count": 110,
   "id": "30fca15b",
   "metadata": {},
   "outputs": [
    {
     "data": {
      "text/plain": [
       "['A']"
      ]
     },
     "execution_count": 110,
     "metadata": {},
     "output_type": "execute_result"
    }
   ],
   "source": [
    "list(\"A\")"
   ]
  },
  {
   "cell_type": "code",
   "execution_count": 111,
   "id": "4af6e26c",
   "metadata": {},
   "outputs": [
    {
     "data": {
      "text/plain": [
       "{'k1': 'v1', 'k2': 'v2', 'k3': 'v3', 'k4': 'v4'}"
      ]
     },
     "execution_count": 111,
     "metadata": {},
     "output_type": "execute_result"
    }
   ],
   "source": [
    "d"
   ]
  },
  {
   "cell_type": "code",
   "execution_count": 112,
   "id": "822f0b55",
   "metadata": {},
   "outputs": [],
   "source": [
    "D={1:12432,\"name\":\"anup\",\"email\":\"a@b.com\",234:\"abc\"}"
   ]
  },
  {
   "cell_type": "code",
   "execution_count": 113,
   "id": "88b58f0e",
   "metadata": {},
   "outputs": [
    {
     "data": {
      "text/plain": [
       "{1: 12432, 'name': 'anup', 'email': 'a@b.com', 234: 'abc'}"
      ]
     },
     "execution_count": 113,
     "metadata": {},
     "output_type": "execute_result"
    }
   ],
   "source": [
    "D"
   ]
  },
  {
   "cell_type": "code",
   "execution_count": 116,
   "id": "cf267886",
   "metadata": {},
   "outputs": [
    {
     "name": "stdout",
     "output_type": "stream",
     "text": [
      "1 12432\n",
      "234 abc\n"
     ]
    }
   ],
   "source": [
    "for i in D:\n",
    "    if type(i) == int:\n",
    "        print(i,D[i])\n",
    "    else:\n",
    "        pass\n"
   ]
  },
  {
   "cell_type": "code",
   "execution_count": 118,
   "id": "d1c279f7",
   "metadata": {},
   "outputs": [
    {
     "name": "stdout",
     "output_type": "stream",
     "text": [
      "a:  3\n",
      "b:  3\n",
      "c:  2\n",
      "d:  2\n"
     ]
    }
   ],
   "source": [
    "s1 =\"aaabbbccdd\"\n",
    "a = 0\n",
    "b = 0\n",
    "c = 0\n",
    "d = 0\n",
    "for i in s1:\n",
    "    if i == \"a\":\n",
    "        a = a + 1\n",
    "    if i== \"b\":\n",
    "        b = b + 1\n",
    "    if i==\"c\":\n",
    "        c = c+1\n",
    "    if i==\"d\":\n",
    "        d=d+1\n",
    "print(\"a: \",a)\n",
    "print(\"b: \",b)\n",
    "print(\"c: \",c)\n",
    "print(\"d: \",d)\n",
    "   "
   ]
  },
  {
   "cell_type": "code",
   "execution_count": 119,
   "id": "a6b9bff6",
   "metadata": {},
   "outputs": [],
   "source": [
    "ss =\"aaabbbccdd\""
   ]
  },
  {
   "cell_type": "code",
   "execution_count": 121,
   "id": "67fbd84f",
   "metadata": {},
   "outputs": [
    {
     "name": "stdout",
     "output_type": "stream",
     "text": [
      "b : 3\n",
      "d : 2\n",
      "c : 2\n",
      "a : 3\n"
     ]
    }
   ],
   "source": [
    "for i in set(ss):\n",
    "    print(i,\":\",ss.count(i))"
   ]
  },
  {
   "cell_type": "code",
   "execution_count": 132,
   "id": "b628955d",
   "metadata": {},
   "outputs": [
    {
     "name": "stdout",
     "output_type": "stream",
     "text": [
      "2 : 3\n",
      "3 : 1\n",
      "9 : 1\n",
      "0 : 2\n",
      "8 : 2\n",
      "4 : 2\n"
     ]
    }
   ],
   "source": [
    "i=23802402984\n",
    "s=str(i)\n",
    "s1=set(s)\n",
    "for i in s1:\n",
    "    print(i,\":\",s.count(i))"
   ]
  },
  {
   "cell_type": "code",
   "execution_count": 149,
   "id": "fb20a7c5",
   "metadata": {},
   "outputs": [
    {
     "name": "stdout",
     "output_type": "stream",
     "text": [
      "2 3\n",
      "3 3\n",
      "3 3\n",
      "4 3\n"
     ]
    }
   ],
   "source": [
    "t = (\"subh\",\"kumar\",[1,2,3,4,5],(3,3,4,56,0),{\"k1\":\"v1\",3:3})\n",
    "for i in range(len(t)):\n",
    "    for j in t[i]:\n",
    "        if j==3:\n",
    "            print(i,\"3\")\n"
   ]
  },
  {
   "cell_type": "code",
   "execution_count": 152,
   "id": "a00451f3",
   "metadata": {},
   "outputs": [
    {
     "name": "stdout",
     "output_type": "stream",
     "text": [
      "3\n",
      "3\n",
      "3\n",
      "3\n",
      "3\n"
     ]
    }
   ],
   "source": [
    "t = (\"subh\",\"kumar\",[1,2,3,4,5],(3,3,4,56,0),{\"k1\":\"v1\",3:3})\n",
    "for i in t:\n",
    "    if type(i)==list or type(i)==tuple:\n",
    "        for j in i:\n",
    "            if j == 3 :\n",
    "                print(j)\n",
    "    if type(i)== dict:\n",
    "        for k,v in i.items():\n",
    "            if k==3 or v ==3:\n",
    "                print(k)\n",
    "                print(v)"
   ]
  },
  {
   "cell_type": "code",
   "execution_count": 153,
   "id": "fcf0fd32",
   "metadata": {},
   "outputs": [],
   "source": [
    "a,b,c = 10,20,30"
   ]
  },
  {
   "cell_type": "code",
   "execution_count": 154,
   "id": "290471b4",
   "metadata": {},
   "outputs": [
    {
     "data": {
      "text/plain": [
       "(10, 20, 30)"
      ]
     },
     "execution_count": 154,
     "metadata": {},
     "output_type": "execute_result"
    }
   ],
   "source": [
    "a,b,c"
   ]
  },
  {
   "cell_type": "code",
   "execution_count": 214,
   "id": "bd2015ff",
   "metadata": {},
   "outputs": [
    {
     "name": "stdout",
     "output_type": "stream",
     "text": [
      "\n",
      " ineuron\n",
      " ineuron ineuron\n",
      " ineuron ineuron ineuron\n",
      " ineuron ineuron ineuron ineuron\n"
     ]
    }
   ],
   "source": [
    "# Q1:\n",
    "for i in range(0,5):\n",
    "    fsds=\"\"\n",
    "    for j in  range(0,i):\n",
    "        \n",
    "        fsds = fsds + \" \" + \"ineuron\"\n",
    "  \n",
    "    print(fsds)\n"
   ]
  },
  {
   "cell_type": "code",
   "execution_count": 227,
   "id": "c89840c2",
   "metadata": {},
   "outputs": [
    {
     "name": "stdout",
     "output_type": "stream",
     "text": [
      "       ineoron        ineoron        ineoron        ineoron        \r\n",
      "              ineoron        ineoron        ineoron        \r\n",
      "                     ineoron        ineoron        \r\n",
      "                            ineoron        \r\n",
      "                            ineoron        \r\n",
      "                     ineoron        ineoron        \r\n",
      "              ineoron        ineoron        ineoron        \r\n",
      "       ineoron        ineoron        ineoron        ineoron        \r\n"
     ]
    }
   ],
   "source": [
    "# Q2: \n",
    "\n",
    "n=3\n",
    "    \n",
    "k = 1\n",
    "for i in range(n, -1 , -1):\n",
    "    for j in range(k , 0 , -1):\n",
    "        print(end=\"       \")\n",
    "    k = k + 1    \n",
    "    for j in range(0, i+1):\n",
    "        print(\"ineoron \" , end=\"       \")\n",
    "    print(\"\\r\")\n",
    "k = 4\n",
    "for i in range(0 , n+1):\n",
    "    for j in range(0 , k):\n",
    "        print(end=\"       \")\n",
    "    k = k - 1\n",
    "    for j in range(0, i + 1):\n",
    "         print(\"ineoron \", end=\"       \")\n",
    "    print(\"\\r\")\n",
    " \n",
    " "
   ]
  },
  {
   "cell_type": "code",
   "execution_count": 204,
   "id": "1eea26e1",
   "metadata": {},
   "outputs": [
    {
     "name": "stdout",
     "output_type": "stream",
     "text": [
      "[3, 3, 4] [3, 3, 4]\n"
     ]
    }
   ],
   "source": [
    "i = j =[3]\n",
    "i += j\n",
    "i.append(4)\n",
    "print(i,j)"
   ]
  },
  {
   "cell_type": "code",
   "execution_count": 209,
   "id": "59b5f045",
   "metadata": {},
   "outputs": [
    {
     "name": "stdout",
     "output_type": "stream",
     "text": [
      "4 2\n"
     ]
    }
   ],
   "source": [
    "i=j=2\n",
    "# j=1\n",
    "i += j\n",
    "print(i,j)"
   ]
  },
  {
   "cell_type": "code",
   "execution_count": 207,
   "id": "86784764",
   "metadata": {},
   "outputs": [
    {
     "name": "stdout",
     "output_type": "stream",
     "text": [
      "(0, 1)\n"
     ]
    }
   ],
   "source": [
    "x,y=(0,1) if True else None,None\n",
    "print(x)"
   ]
  },
  {
   "cell_type": "code",
   "execution_count": 2,
   "id": "5f4b4a26",
   "metadata": {},
   "outputs": [],
   "source": [
    "l=[[1,2,3,4],(2,3,4,5),(3,4,5,6,7),set([23,4,5,45,4,4,5,45,45,4,5]),{'k1':\"sudh\",\"k2\":\"ineuron\",\"k3\":\"kumar\",3:6,7:8},[\"ineuron\",\"data science\"]]"
   ]
  },
  {
   "cell_type": "code",
   "execution_count": 213,
   "id": "f3d5f501",
   "metadata": {},
   "outputs": [
    {
     "data": {
      "text/plain": [
       "[[1, 2, 3, 4],\n",
       " (2, 3, 4, 5),\n",
       " (3, 4, 5, 6, 7),\n",
       " {4, 5, 23, 45},\n",
       " {'k1': 'sudh', 'k2': 'ineuron', 'k3': 'kumar', 3: 6, 7: 8},\n",
       " ['ineuron', 'data science']]"
      ]
     },
     "execution_count": 213,
     "metadata": {},
     "output_type": "execute_result"
    }
   ],
   "source": [
    "l"
   ]
  },
  {
   "cell_type": "code",
   "execution_count": 215,
   "id": "b7ee0019",
   "metadata": {},
   "outputs": [
    {
     "name": "stdout",
     "output_type": "stream",
     "text": [
      "[1, 2, 3, 4]\n",
      "(2, 3, 4, 5)\n",
      "(3, 4, 5, 6, 7)\n",
      "{45, 4, 5, 23}\n",
      "{'k1': 'sudh', 'k2': 'ineuron', 'k3': 'kumar', 3: 6, 7: 8}\n",
      "['ineuron', 'data science']\n"
     ]
    }
   ],
   "source": [
    "# Q3: Try to extract all the list entity\n",
    "for i in l:\n",
    "    print(i)"
   ]
  },
  {
   "cell_type": "code",
   "execution_count": 218,
   "id": "37a75114",
   "metadata": {},
   "outputs": [
    {
     "name": "stdout",
     "output_type": "stream",
     "text": [
      "{'k1': 'sudh', 'k2': 'ineuron', 'k3': 'kumar', 3: 6, 7: 8}\n"
     ]
    }
   ],
   "source": [
    "#Q4 Try to extract all the dict entries\n",
    "for i in l:\n",
    "    if type(i)==dict:\n",
    "        print(i)\n",
    "    "
   ]
  },
  {
   "cell_type": "code",
   "execution_count": 219,
   "id": "19cab82a",
   "metadata": {},
   "outputs": [
    {
     "name": "stdout",
     "output_type": "stream",
     "text": [
      "(2, 3, 4, 5)\n",
      "(3, 4, 5, 6, 7)\n"
     ]
    }
   ],
   "source": [
    "#Q5 Try to extract all the tuple entities\n",
    "for i in l:\n",
    "    if type(i) == tuple:\n",
    "        print(i)\n",
    "    "
   ]
  },
  {
   "cell_type": "code",
   "execution_count": 234,
   "id": "6e15da1d",
   "metadata": {},
   "outputs": [
    {
     "name": "stdout",
     "output_type": "stream",
     "text": [
      "1\n",
      "2\n",
      "3\n",
      "4\n",
      "2\n",
      "3\n",
      "4\n",
      "5\n",
      "3\n",
      "4\n",
      "5\n",
      "6\n",
      "7\n",
      "45\n",
      "4\n",
      "5\n",
      "23\n",
      "3\n",
      "7\n"
     ]
    }
   ],
   "source": [
    "#Q6 Try to extract all the all numerical data\n",
    "for i in l :\n",
    "#     print(i)\n",
    "    for j in i:\n",
    "#         print(j)\n",
    "        if type(j)==int:\n",
    "            print(j)"
   ]
  },
  {
   "cell_type": "code",
   "execution_count": 236,
   "id": "2cd665aa",
   "metadata": {},
   "outputs": [
    {
     "name": "stdout",
     "output_type": "stream",
     "text": [
      "136\n"
     ]
    }
   ],
   "source": [
    "#Q7 Try to give summation of all numeric data\n",
    "s=0\n",
    "for i in l :\n",
    "    for j in i:\n",
    "        if type(j)==int:\n",
    "            s=s+j\n",
    "print(s)"
   ]
  },
  {
   "cell_type": "code",
   "execution_count": 237,
   "id": "1dbdb1aa",
   "metadata": {},
   "outputs": [
    {
     "name": "stdout",
     "output_type": "stream",
     "text": [
      "1\n",
      "3\n",
      "3\n",
      "5\n",
      "3\n",
      "5\n",
      "7\n",
      "45\n",
      "5\n",
      "23\n",
      "3\n",
      "7\n"
     ]
    }
   ],
   "source": [
    "#Q8 Try to filter out all the odd values \n",
    "for i in l :\n",
    "    for j in i:\n",
    "        if type(j)==int and j%2!=0:\n",
    "            print(j)"
   ]
  },
  {
   "cell_type": "code",
   "execution_count": 268,
   "id": "5c961c65",
   "metadata": {},
   "outputs": [
    {
     "name": "stdout",
     "output_type": "stream",
     "text": [
      "{'k1': 'sudh', 'k2': 'ineuron', 'k3': 'kumar', 3: 6, 7: 8} : ineuron\n",
      "['ineuron', 'data science'] : ineuron\n"
     ]
    }
   ],
   "source": [
    "#Q9: Try to extract ineoron out of this list\n",
    "for i in l :\n",
    "    for j in i:\n",
    "#         print(i)\n",
    "        if j==\"ineuron\":\n",
    "            print(i,\":\",j)\n",
    "    if type(i)==dict:\n",
    "        for k in i:\n",
    "            if(i[k]==\"ineuron\"):\n",
    "                print(i,\":\",i[k])\n",
    "                            \n",
    "            \n",
    "                \n"
   ]
  },
  {
   "cell_type": "code",
   "execution_count": 292,
   "id": "aeca5f4e",
   "metadata": {},
   "outputs": [
    {
     "name": "stdout",
     "output_type": "stream",
     "text": [
      "Occurance of  data science  is :  1\n",
      "Occurance of  1  is :  1\n",
      "Occurance of  2  is :  2\n",
      "Occurance of  3  is :  3\n",
      "Occurance of  4  is :  4\n",
      "Occurance of  5  is :  3\n",
      "Occurance of  6  is :  2\n",
      "Occurance of  7  is :  1\n",
      "Occurance of  ineuron  is :  2\n",
      "Occurance of  8  is :  1\n",
      "Occurance of  45  is :  1\n",
      "Occurance of  23  is :  1\n",
      "Occurance of  kumar  is :  1\n",
      "Occurance of  sudh  is :  1\n"
     ]
    }
   ],
   "source": [
    "#Q10:Try to find out the number of occurence of all the data\n",
    "L1=[]\n",
    "for i in l:\n",
    "    for j in i:\n",
    "        if(type(i)!=dict):\n",
    "#             print(i)\n",
    "            L1.append(j)\n",
    "        else:\n",
    "            L1.append(i[j])\n",
    "   \n",
    "L2=set(L1)\n",
    "for x in L2:\n",
    "    print(\"Occurance of \",x,\" is : \",L1.count(x))"
   ]
  },
  {
   "cell_type": "code",
   "execution_count": null,
   "id": "8658bc38",
   "metadata": {},
   "outputs": [],
   "source": [
    "#Q11 Try to find out No of keys in Dict"
   ]
  },
  {
   "cell_type": "code",
   "execution_count": 296,
   "id": "85615394",
   "metadata": {},
   "outputs": [
    {
     "name": "stdout",
     "output_type": "stream",
     "text": [
      "k1\n",
      "k2\n",
      "k3\n",
      "3\n",
      "7\n",
      "No of keys :  5\n"
     ]
    }
   ],
   "source": [
    "x=0\n",
    "for i in l:\n",
    "    for j in i:\n",
    "        if type(i)==dict:\n",
    "            print(j)\n",
    "            x=x+1\n",
    "print(\"No of keys : \",x)"
   ]
  },
  {
   "cell_type": "code",
   "execution_count": 300,
   "id": "c4c1db4a",
   "metadata": {},
   "outputs": [
    {
     "name": "stdout",
     "output_type": "stream",
     "text": [
      "['k1', 'sudh', 'k2', 'ineuron', 'k3', 'kumar', 'ineuron', 'data science']\n"
     ]
    }
   ],
   "source": [
    "#Q12 : Try to filter out all string\n",
    "s=[]\n",
    "for i in l:\n",
    "    for j in i:\n",
    "        if(type(j)==str):\n",
    "            s.append(j)\n",
    "        if(type(i)==dict and type(i[j])==str):\n",
    "            s.append(i[j])\n",
    "print(s)\n",
    "    "
   ]
  },
  {
   "cell_type": "code",
   "execution_count": 322,
   "id": "8b2ee209",
   "metadata": {},
   "outputs": [
    {
     "data": {
      "text/plain": [
       "['k1', 'sudh', 'k2', 'ineuron', 'k3', 'kumar', 'ineuron']"
      ]
     },
     "execution_count": 322,
     "metadata": {},
     "output_type": "execute_result"
    }
   ],
   "source": [
    "#Q13: Try to find out alphanumin data\n",
    "r=[]\n",
    "for i in l:\n",
    "    for j in i:\n",
    "#         print(j)\n",
    "        if(type(j)==str and str(j).isalnum()==True):\n",
    "            r.append(j)\n",
    "        if(type(i)==dict and str(i[j]).isalnum()==True and type(i[j])==str):\n",
    "            r.append(i[j])\n",
    "r"
   ]
  },
  {
   "cell_type": "code",
   "execution_count": 5,
   "id": "a44a4c0f",
   "metadata": {},
   "outputs": [
    {
     "name": "stdout",
     "output_type": "stream",
     "text": [
      "Multiplication of  1 : 1\n",
      "Multiplication of  2 : 4\n",
      "Multiplication of  3 : 9\n",
      "Multiplication of  4 : 16\n",
      "Multiplication of  2 : 4\n",
      "Multiplication of  3 : 9\n",
      "Multiplication of  4 : 16\n",
      "Multiplication of  5 : 25\n",
      "Multiplication of  3 : 9\n",
      "Multiplication of  4 : 16\n",
      "Multiplication of  5 : 25\n",
      "Multiplication of  6 : 36\n",
      "Multiplication of  7 : 49\n",
      "Multiplication of  45 : 2025\n",
      "Multiplication of  4 : 16\n",
      "Multiplication of  5 : 25\n",
      "Multiplication of  23 : 529\n",
      "Multiplication of  6 : 36\n",
      "Multiplication of  8 : 64\n"
     ]
    }
   ],
   "source": [
    "# Q14 : Try to find out multiplication of all numeric value in the individual collection inside dataset\n",
    "\n",
    "for i in l:\n",
    "    for j in i:\n",
    "        if(type(i)!=dict and type(j)== int):\n",
    "            print(\"Multiplication of \",j,\":\",j*j)\n",
    "        if(type(i)==dict and type(i[j])== int):\n",
    "            print(\"Multiplication of \",i[j],\":\",i[j]*i[j])\n",
    "    "
   ]
  },
  {
   "cell_type": "code",
   "execution_count": 8,
   "id": "22450662",
   "metadata": {},
   "outputs": [
    {
     "name": "stdout",
     "output_type": "stream",
     "text": [
      "[1, 2, 3, 4, 2, 3, 4, 5, 3, 4, 5, 6, 7, 45, 4, 5, 23, 'k1', 'sudh', 'k2', 'ineuron', 'k3', 'kumar', 3, 6, 7, 8, 'ineuron', 'data science']\n"
     ]
    }
   ],
   "source": [
    "#Q15: Try to unwrap all the collection inside a collection and create the flat list\n",
    "fl=[]\n",
    "for i in l:\n",
    "    for j in i:\n",
    "        fl.append(j)\n",
    "        if(type(i)==dict):\n",
    "            fl.append(i[j])\n",
    "\n",
    "print(fl) "
   ]
  },
  {
   "cell_type": "code",
   "execution_count": null,
   "id": "8299f75b",
   "metadata": {},
   "outputs": [],
   "source": []
  }
 ],
 "metadata": {
  "kernelspec": {
   "display_name": "Python 3",
   "language": "python",
   "name": "python3"
  },
  "language_info": {
   "codemirror_mode": {
    "name": "ipython",
    "version": 3
   },
   "file_extension": ".py",
   "mimetype": "text/x-python",
   "name": "python",
   "nbconvert_exporter": "python",
   "pygments_lexer": "ipython3",
   "version": "3.8.8"
  }
 },
 "nbformat": 4,
 "nbformat_minor": 5
}
