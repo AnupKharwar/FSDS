{
 "cells": [
  {
   "cell_type": "code",
   "execution_count": 2,
   "id": "6d376288",
   "metadata": {},
   "outputs": [
    {
     "name": "stdout",
     "output_type": "stream",
     "text": [
      "1 1\n",
      "2 2\n",
      "3 3\n",
      "4 4\n",
      "5 5\n",
      "6 6\n",
      "7 7\n",
      "8 8\n",
      "9 9\n",
      "10 10\n"
     ]
    }
   ],
   "source": [
    "# while loop\n",
    "a=1\n",
    "b=10\n",
    "c=0\n",
    "while a<=b:\n",
    "    c=c+1\n",
    "    print(a,c)\n",
    "    a=a+1"
   ]
  },
  {
   "cell_type": "code",
   "execution_count": 4,
   "id": "56fc410c",
   "metadata": {},
   "outputs": [
    {
     "name": "stdout",
     "output_type": "stream",
     "text": [
      "1\n",
      "3\n",
      "5\n",
      "7\n",
      "9\n",
      "b\n"
     ]
    }
   ],
   "source": [
    "a=1\n",
    "b=10\n",
    "while a<=b:\n",
    "    print(a)\n",
    "    a=a+2\n",
    "else:\n",
    "    print(\"b\")"
   ]
  },
  {
   "cell_type": "code",
   "execution_count": 7,
   "id": "a4e4d75a",
   "metadata": {},
   "outputs": [
    {
     "name": "stdout",
     "output_type": "stream",
     "text": [
      "1\n",
      "2\n",
      "3\n",
      "4\n",
      "5\n"
     ]
    }
   ],
   "source": [
    "x=1\n",
    "y=10\n",
    "while x<=y:\n",
    "    print(x)\n",
    "    if x==5:\n",
    "        break\n",
    "    x=x+1\n",
    "else:\n",
    "    print(\"B\")\n"
   ]
  },
  {
   "cell_type": "code",
   "execution_count": 8,
   "id": "d6f3c20c",
   "metadata": {},
   "outputs": [
    {
     "name": "stdout",
     "output_type": "stream",
     "text": [
      "2\n",
      "3\n",
      "4\n",
      "5\n",
      "6\n",
      "7\n",
      "8\n",
      "9\n",
      "10\n",
      "11\n",
      "B\n"
     ]
    }
   ],
   "source": [
    "x=1\n",
    "y=10\n",
    "while x<=y:\n",
    "    x=x+1\n",
    "    print(x)\n",
    "    if x==5:\n",
    "        continue\n",
    "    \n",
    "else:\n",
    "    print(\"B\")\n"
   ]
  },
  {
   "cell_type": "code",
   "execution_count": 12,
   "id": "742d99ff",
   "metadata": {},
   "outputs": [
    {
     "name": "stdout",
     "output_type": "stream",
     "text": [
      "12\n",
      "3\n",
      "4\n",
      "7\n",
      "5\n",
      "9\n",
      "6\n"
     ]
    }
   ],
   "source": [
    "l=[12,3,4,7,5,9,6]\n",
    "a=0\n",
    "while a<len(l):\n",
    "    print(l[a])\n",
    "    a=a+1"
   ]
  },
  {
   "cell_type": "code",
   "execution_count": 16,
   "id": "40278181",
   "metadata": {},
   "outputs": [],
   "source": [
    "t=(6,3,4,5,6,7,8,9)"
   ]
  },
  {
   "cell_type": "code",
   "execution_count": 14,
   "id": "5c1967b3",
   "metadata": {},
   "outputs": [
    {
     "name": "stdout",
     "output_type": "stream",
     "text": [
      "3\n",
      "4\n"
     ]
    }
   ],
   "source": [
    "a=0\n",
    "while(a<len(t)):\n",
    "    if t[a] == 6 or t[a] ==7:\n",
    "        print(a)\n",
    "    a=a+1"
   ]
  },
  {
   "cell_type": "code",
   "execution_count": 19,
   "id": "1a224cfc",
   "metadata": {},
   "outputs": [
    {
     "name": "stdout",
     "output_type": "stream",
     "text": [
      "index of  6 : 0\n",
      "index of  6 : -1\n",
      "index of  7 : -4\n",
      "index of  6 : -5\n"
     ]
    }
   ],
   "source": [
    "t=(6,3,4,5,6,7,8,9,6)\n",
    "a=0\n",
    "b=len(t)*(-1)\n",
    "while(a>b):\n",
    "    if t[a] == 6 or t[a] ==7:\n",
    "        print(\"index of \",t[a],\":\",a)\n",
    "    a=a-1"
   ]
  },
  {
   "cell_type": "code",
   "execution_count": 28,
   "id": "181e079d",
   "metadata": {},
   "outputs": [
    {
     "name": "stdout",
     "output_type": "stream",
     "text": [
      "sudh\n",
      "kumar\n",
      "[1, 2, 3, 4]\n"
     ]
    }
   ],
   "source": [
    "#Print all values from dict\n",
    "d={'k1':\"sudh\",'k2':\"kumar\",'k3':[1,2,3,4]}\n",
    "a=0\n",
    "c=list(d.keys())\n",
    "b=len(d)\n",
    "e=\"\"\n",
    "while(a<b):\n",
    "    e=c[a] \n",
    "    print(d[e])\n",
    "    a=a+1"
   ]
  },
  {
   "cell_type": "code",
   "execution_count": null,
   "id": "e26b66a6",
   "metadata": {},
   "outputs": [],
   "source": [
    "# Functions\n",
    "# len()\n",
    "# range()\n",
    "# print()\n",
    "# type()\n",
    "# append()\n",
    "# pop\n",
    "# insert\n",
    "# extend\n",
    "# items()"
   ]
  },
  {
   "cell_type": "code",
   "execution_count": 29,
   "id": "f9dc325f",
   "metadata": {},
   "outputs": [],
   "source": [
    "def addnumber():\n",
    "    print(\"first function\")"
   ]
  },
  {
   "cell_type": "code",
   "execution_count": 30,
   "id": "a6b11593",
   "metadata": {},
   "outputs": [
    {
     "name": "stdout",
     "output_type": "stream",
     "text": [
      "first function\n"
     ]
    }
   ],
   "source": [
    "addnumber()"
   ]
  },
  {
   "cell_type": "code",
   "execution_count": 32,
   "id": "668c8c81",
   "metadata": {},
   "outputs": [
    {
     "name": "stdout",
     "output_type": "stream",
     "text": [
      "first function\n"
     ]
    }
   ],
   "source": [
    "s = addnumber()\n",
    "# s=s+\"anup\""
   ]
  },
  {
   "cell_type": "code",
   "execution_count": 33,
   "id": "111df6d0",
   "metadata": {},
   "outputs": [],
   "source": [
    "def test():\n",
    "    return \"first fun\""
   ]
  },
  {
   "cell_type": "code",
   "execution_count": 36,
   "id": "9551492d",
   "metadata": {},
   "outputs": [
    {
     "data": {
      "text/plain": [
       "'first fun anup'"
      ]
     },
     "execution_count": 36,
     "metadata": {},
     "output_type": "execute_result"
    }
   ],
   "source": [
    "test()+\" anup\""
   ]
  },
  {
   "cell_type": "code",
   "execution_count": 37,
   "id": "0b5f03bd",
   "metadata": {},
   "outputs": [],
   "source": [
    "def test2():\n",
    "    pass"
   ]
  },
  {
   "cell_type": "code",
   "execution_count": 42,
   "id": "f1e886e3",
   "metadata": {},
   "outputs": [],
   "source": [
    "def test3():\n",
    "    return 1,2,3,4,[1,2,3,4],\"anup\""
   ]
  },
  {
   "cell_type": "code",
   "execution_count": 43,
   "id": "262bb99b",
   "metadata": {},
   "outputs": [
    {
     "data": {
      "text/plain": [
       "(1, 2, 3, 4, [1, 2, 3, 4], 'anup')"
      ]
     },
     "execution_count": 43,
     "metadata": {},
     "output_type": "execute_result"
    }
   ],
   "source": [
    "test3()"
   ]
  },
  {
   "cell_type": "code",
   "execution_count": 47,
   "id": "9d03de28",
   "metadata": {},
   "outputs": [],
   "source": [
    "a,b,c,d,e,f=test3()"
   ]
  },
  {
   "cell_type": "code",
   "execution_count": 48,
   "id": "526ce7ab",
   "metadata": {},
   "outputs": [
    {
     "data": {
      "text/plain": [
       "(1, 2, 3, 4, [1, 2, 3, 4], 'anup')"
      ]
     },
     "execution_count": 48,
     "metadata": {},
     "output_type": "execute_result"
    }
   ],
   "source": [
    "a,b,c,d,e,f"
   ]
  },
  {
   "cell_type": "code",
   "execution_count": 49,
   "id": "fdc4efc4",
   "metadata": {},
   "outputs": [],
   "source": [
    "def test4():\n",
    "    a=5*4\n",
    "    b=6+4\n",
    "    return a,a\n"
   ]
  },
  {
   "cell_type": "code",
   "execution_count": 50,
   "id": "44539ab8",
   "metadata": {},
   "outputs": [
    {
     "data": {
      "text/plain": [
       "(20, 20)"
      ]
     },
     "execution_count": 50,
     "metadata": {},
     "output_type": "execute_result"
    }
   ],
   "source": [
    "test4()"
   ]
  },
  {
   "cell_type": "code",
   "execution_count": 51,
   "id": "bc9223c5",
   "metadata": {},
   "outputs": [],
   "source": [
    "j,k=test4()"
   ]
  },
  {
   "cell_type": "code",
   "execution_count": 52,
   "id": "36262e50",
   "metadata": {},
   "outputs": [
    {
     "data": {
      "text/plain": [
       "(20, 20)"
      ]
     },
     "execution_count": 52,
     "metadata": {},
     "output_type": "execute_result"
    }
   ],
   "source": [
    "j,k"
   ]
  },
  {
   "cell_type": "code",
   "execution_count": 53,
   "id": "5548cc98",
   "metadata": {},
   "outputs": [],
   "source": [
    "_,p=test4()"
   ]
  },
  {
   "cell_type": "code",
   "execution_count": 55,
   "id": "bb17c81e",
   "metadata": {},
   "outputs": [
    {
     "data": {
      "text/plain": [
       "20"
      ]
     },
     "execution_count": 55,
     "metadata": {},
     "output_type": "execute_result"
    }
   ],
   "source": [
    "_"
   ]
  },
  {
   "cell_type": "code",
   "execution_count": 56,
   "id": "d8218f98",
   "metadata": {},
   "outputs": [
    {
     "data": {
      "text/plain": [
       "20"
      ]
     },
     "execution_count": 56,
     "metadata": {},
     "output_type": "execute_result"
    }
   ],
   "source": [
    "p"
   ]
  },
  {
   "cell_type": "code",
   "execution_count": 57,
   "id": "8904d7fe",
   "metadata": {},
   "outputs": [],
   "source": [
    "def test6():\n",
    "    a=1\n",
    "    b=2\n",
    "    c=3\n",
    "    return a,b,c"
   ]
  },
  {
   "cell_type": "code",
   "execution_count": 58,
   "id": "97bb27f5",
   "metadata": {},
   "outputs": [],
   "source": [
    "_,_,c=test6()"
   ]
  },
  {
   "cell_type": "code",
   "execution_count": 59,
   "id": "894ab36f",
   "metadata": {},
   "outputs": [
    {
     "data": {
      "text/plain": [
       "3"
      ]
     },
     "execution_count": 59,
     "metadata": {},
     "output_type": "execute_result"
    }
   ],
   "source": [
    "c"
   ]
  },
  {
   "cell_type": "code",
   "execution_count": 69,
   "id": "947375c5",
   "metadata": {},
   "outputs": [],
   "source": [
    "def test7(a,b):\n",
    "    while(a<=b):\n",
    "        print(a)\n",
    "        a=a+1\n",
    "    return a"
   ]
  },
  {
   "cell_type": "code",
   "execution_count": 70,
   "id": "138f7b44",
   "metadata": {},
   "outputs": [
    {
     "name": "stdout",
     "output_type": "stream",
     "text": [
      "1\n",
      "2\n",
      "3\n",
      "4\n",
      "5\n",
      "6\n",
      "7\n",
      "8\n",
      "9\n",
      "10\n"
     ]
    },
    {
     "data": {
      "text/plain": [
       "11"
      ]
     },
     "execution_count": 70,
     "metadata": {},
     "output_type": "execute_result"
    }
   ],
   "source": [
    "test7(1,10)"
   ]
  },
  {
   "cell_type": "code",
   "execution_count": 77,
   "id": "1deb6f5b",
   "metadata": {},
   "outputs": [],
   "source": [
    "def test8(a,b):\n",
    "    l=[]\n",
    "    while(a<=b):\n",
    "        l.append(a)\n",
    "        a=a+1\n",
    "    return l"
   ]
  },
  {
   "cell_type": "code",
   "execution_count": 73,
   "id": "0c3b25c2",
   "metadata": {},
   "outputs": [
    {
     "data": {
      "text/plain": [
       "int"
      ]
     },
     "execution_count": 73,
     "metadata": {},
     "output_type": "execute_result"
    }
   ],
   "source": [
    "type(test8(1,2))"
   ]
  },
  {
   "cell_type": "code",
   "execution_count": 79,
   "id": "4d4311c6",
   "metadata": {},
   "outputs": [
    {
     "data": {
      "text/plain": [
       "[1, 2, 3, 4, 5, 6, 7, 8, 9, 10]"
      ]
     },
     "execution_count": 79,
     "metadata": {},
     "output_type": "execute_result"
    }
   ],
   "source": [
    "test8(1,10)"
   ]
  },
  {
   "cell_type": "code",
   "execution_count": 83,
   "id": "8da1b342",
   "metadata": {},
   "outputs": [],
   "source": [
    "l=[1,2,3,4,5,5,6,3,2,[5,6,4,3,4],\"sudh\"]"
   ]
  },
  {
   "cell_type": "code",
   "execution_count": 85,
   "id": "c2b503a0",
   "metadata": {},
   "outputs": [],
   "source": [
    "def intfromlist():\n",
    "    l1=[]\n",
    "    for i in l:\n",
    "        if type(i)==int:\n",
    "            l1.append(i)\n",
    "    return(l1)\n",
    "        \n",
    "    "
   ]
  },
  {
   "cell_type": "code",
   "execution_count": 86,
   "id": "61c33148",
   "metadata": {},
   "outputs": [
    {
     "data": {
      "text/plain": [
       "[1, 2, 3, 4, 5, 5, 6, 3, 2]"
      ]
     },
     "execution_count": 86,
     "metadata": {},
     "output_type": "execute_result"
    }
   ],
   "source": [
    "intfromlist()"
   ]
  },
  {
   "cell_type": "code",
   "execution_count": 87,
   "id": "106a664d",
   "metadata": {},
   "outputs": [],
   "source": [
    "def intfromlist(l):\n",
    "    l1=[]\n",
    "    for i in l:\n",
    "        if type(i)==int:\n",
    "            l1.append(i)\n",
    "    return(l1)"
   ]
  },
  {
   "cell_type": "code",
   "execution_count": 89,
   "id": "11ca7c29",
   "metadata": {},
   "outputs": [
    {
     "data": {
      "text/plain": [
       "[1, 2, 3, 4, 5, 5, 6, 3, 2]"
      ]
     },
     "execution_count": 89,
     "metadata": {},
     "output_type": "execute_result"
    }
   ],
   "source": [
    "intfromlist(l)"
   ]
  },
  {
   "cell_type": "code",
   "execution_count": null,
   "id": "4ec160c6",
   "metadata": {},
   "outputs": [],
   "source": []
  }
 ],
 "metadata": {
  "kernelspec": {
   "display_name": "Python 3",
   "language": "python",
   "name": "python3"
  },
  "language_info": {
   "codemirror_mode": {
    "name": "ipython",
    "version": 3
   },
   "file_extension": ".py",
   "mimetype": "text/x-python",
   "name": "python",
   "nbconvert_exporter": "python",
   "pygments_lexer": "ipython3",
   "version": "3.8.8"
  }
 },
 "nbformat": 4,
 "nbformat_minor": 5
}
