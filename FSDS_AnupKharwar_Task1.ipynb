{
 "cells": [
  {
   "cell_type": "markdown",
   "id": "617af57b",
   "metadata": {},
   "source": [
    "\n",
    "s = \"this is My First Python programming class and i am learNING python string and its function\"\n",
    "\n",
    "1. Try to extract data from index one to index 300 with a jump of 3 \n",
    "2. Try to reverse a string without using reverse function \n",
    "3. Try to split a string after conversion of entire string in uppercase \n",
    "4. try to convert the whole string into lower case \n",
    "5. Try to capitalize the whole string \n",
    "6. Write a diference between isalnum() and isalpha()\n",
    "7. Try to give an example of expand tab\n",
    "8. Give an example of strip , lstrip and rstrip \n",
    "9.  Replace a string charecter by another charector by taking your own example \"sudhanshu\"\n",
    "10. Try  to give a defination of string center function with and exmple \n",
    "11. Write your own definition of compiler and interpretor without copy paste form internet in your own language\n",
    "12. Python is a interpreted of compiled language give a clear ans with your understanding \n",
    "13. Try to write a usecase of python with your understanding\n",
    "\n",
    "shivan@ineuron.ai"
   ]
  },
  {
   "cell_type": "code",
   "execution_count": 2,
   "id": "555cf510",
   "metadata": {},
   "outputs": [],
   "source": [
    "s = \"this is My First Python programming class and i am learNING python string and its function\""
   ]
  },
  {
   "cell_type": "markdown",
   "id": "5b45d989",
   "metadata": {},
   "source": [
    "1.Try to extract data from index one to index 300 with a jump of 3"
   ]
  },
  {
   "cell_type": "code",
   "execution_count": 3,
   "id": "14c0bb6e",
   "metadata": {},
   "outputs": [
    {
     "data": {
      "text/plain": [
       "'h   r tnrrmglsnimeNGyosi dtfco'"
      ]
     },
     "execution_count": 3,
     "metadata": {},
     "output_type": "execute_result"
    }
   ],
   "source": [
    "s[1:300:3]"
   ]
  },
  {
   "cell_type": "markdown",
   "id": "4244ef43",
   "metadata": {},
   "source": [
    "2. Try to reverse a string without using reverse function"
   ]
  },
  {
   "cell_type": "code",
   "execution_count": 4,
   "id": "f672fdb7",
   "metadata": {},
   "outputs": [
    {
     "data": {
      "text/plain": [
       "'noitcnuf sti dna gnirts nohtyp GNINrael ma i dna ssalc gnimmargorp nohtyP tsriF yM si siht'"
      ]
     },
     "execution_count": 4,
     "metadata": {},
     "output_type": "execute_result"
    }
   ],
   "source": [
    "s[::-1]"
   ]
  },
  {
   "cell_type": "markdown",
   "id": "83a565e6",
   "metadata": {},
   "source": [
    "3.Try to split a string after conversion of entire string in uppercase"
   ]
  },
  {
   "cell_type": "code",
   "execution_count": 6,
   "id": "d70d8877",
   "metadata": {},
   "outputs": [
    {
     "data": {
      "text/plain": [
       "['THIS',\n",
       " 'IS',\n",
       " 'MY',\n",
       " 'FIRST',\n",
       " 'PYTHON',\n",
       " 'PROGRAMMING',\n",
       " 'CLASS',\n",
       " 'AND',\n",
       " 'I',\n",
       " 'AM',\n",
       " 'LEARNING',\n",
       " 'PYTHON',\n",
       " 'STRING',\n",
       " 'AND',\n",
       " 'ITS',\n",
       " 'FUNCTION']"
      ]
     },
     "execution_count": 6,
     "metadata": {},
     "output_type": "execute_result"
    }
   ],
   "source": [
    "s.upper().split(\" \")"
   ]
  },
  {
   "cell_type": "markdown",
   "id": "3d791890",
   "metadata": {},
   "source": [
    "4.try to convert the whole string into lower case"
   ]
  },
  {
   "cell_type": "code",
   "execution_count": 7,
   "id": "7fa3dc44",
   "metadata": {},
   "outputs": [
    {
     "data": {
      "text/plain": [
       "'this is my first python programming class and i am learning python string and its function'"
      ]
     },
     "execution_count": 7,
     "metadata": {},
     "output_type": "execute_result"
    }
   ],
   "source": [
    "s.lower()"
   ]
  },
  {
   "cell_type": "markdown",
   "id": "c98679d5",
   "metadata": {},
   "source": [
    "5.Try to capitalize the whole string"
   ]
  },
  {
   "cell_type": "code",
   "execution_count": 8,
   "id": "9c060095",
   "metadata": {},
   "outputs": [
    {
     "data": {
      "text/plain": [
       "'This is my first python programming class and i am learning python string and its function'"
      ]
     },
     "execution_count": 8,
     "metadata": {},
     "output_type": "execute_result"
    }
   ],
   "source": [
    "s.capitalize()"
   ]
  },
  {
   "cell_type": "markdown",
   "id": "8a13d174",
   "metadata": {},
   "source": [
    "6. Write a diference between isalnum() and isalpha()\n",
    "\n",
    "Ans : isalnum() = this is string function and it will validate the string, whether it has combination of string and Numeric\n",
    "    data(ie : \"anup8754\") and it will return True if string has above combination otherwise False \n",
    "\n",
    "    isalpha(): In this function it will evalute the string and returs True if it has only alphabatic value otherwise False\n",
    "    "
   ]
  },
  {
   "cell_type": "markdown",
   "id": "9984ec9c",
   "metadata": {},
   "source": [
    "7. Try to give an example of expand tab"
   ]
  },
  {
   "cell_type": "markdown",
   "id": "194a7a20",
   "metadata": {},
   "source": [
    "Ans .  If we have getting data from web API or flat file so we need to know the exact sentence of from paragraph .\n",
    "expandtab funtion will try to recongnize the tabs from sentences or paragraphs(ie Medical Records)\n",
    "Example : It will sepress by Tab"
   ]
  },
  {
   "cell_type": "code",
   "execution_count": 14,
   "id": "9b58c09c",
   "metadata": {},
   "outputs": [
    {
     "data": {
      "text/plain": [
       "'this is medical record  hhave diabtic   condition'"
      ]
     },
     "execution_count": 14,
     "metadata": {},
     "output_type": "execute_result"
    }
   ],
   "source": [
    "t = \"this is medical record\\thhave diabtic\\tcondition\"\n",
    "t.expandtabs()"
   ]
  },
  {
   "cell_type": "markdown",
   "id": "8fcd6ad0",
   "metadata": {},
   "source": [
    "\n",
    "\n",
    "8. Give an example of strip , lstrip and rstrip"
   ]
  },
  {
   "cell_type": "markdown",
   "id": "62a77b97",
   "metadata": {},
   "source": [
    "Ans . strip : If we have leading and trailing space in sting then we need to use strip to remove the same,\n",
    "It is same like TRIM function in excel. \n",
    "\n",
    "lstrip : It will remove the left space from string. \n",
    "\n",
    "rstrip : It will remove the Right space from string.\n",
    "   \n",
    "Example Below:"
   ]
  },
  {
   "cell_type": "code",
   "execution_count": 16,
   "id": "4e004767",
   "metadata": {},
   "outputs": [
    {
     "data": {
      "text/plain": [
       "'this is example'"
      ]
     },
     "execution_count": 16,
     "metadata": {},
     "output_type": "execute_result"
    }
   ],
   "source": [
    "p = \" this is example    \"\n",
    "p.strip()"
   ]
  },
  {
   "cell_type": "code",
   "execution_count": 17,
   "id": "d1808ec8",
   "metadata": {},
   "outputs": [
    {
     "data": {
      "text/plain": [
       "'this is example    '"
      ]
     },
     "execution_count": 17,
     "metadata": {},
     "output_type": "execute_result"
    }
   ],
   "source": [
    "p.lstrip()"
   ]
  },
  {
   "cell_type": "code",
   "execution_count": 18,
   "id": "df450ecf",
   "metadata": {},
   "outputs": [
    {
     "data": {
      "text/plain": [
       "' this is example'"
      ]
     },
     "execution_count": 18,
     "metadata": {},
     "output_type": "execute_result"
    }
   ],
   "source": [
    "p.rstrip()"
   ]
  },
  {
   "cell_type": "markdown",
   "id": "9aa1dcde",
   "metadata": {},
   "source": [
    "9.Replace a string charecter by another charector by taking your own example \"sudhanshu\""
   ]
  },
  {
   "cell_type": "code",
   "execution_count": 19,
   "id": "e2f1e918",
   "metadata": {},
   "outputs": [
    {
     "data": {
      "text/plain": [
       "'good morning anup'"
      ]
     },
     "execution_count": 19,
     "metadata": {},
     "output_type": "execute_result"
    }
   ],
   "source": [
    "t = \"good morning sudhanshu\"\n",
    "t.replace(\"sudhanshu\",\"anup\",1)"
   ]
  },
  {
   "cell_type": "markdown",
   "id": "7289b282",
   "metadata": {},
   "source": [
    "\n",
    "\n",
    "\n",
    "10 . Try to give a defination of string center function with and exmple\n",
    "\n",
    "Ans : The center() method will center align the string , below is the example."
   ]
  },
  {
   "cell_type": "code",
   "execution_count": 30,
   "id": "66f4e131",
   "metadata": {},
   "outputs": [
    {
     "data": {
      "text/plain": [
       "'              good morning sudhanshu              '"
      ]
     },
     "execution_count": 30,
     "metadata": {},
     "output_type": "execute_result"
    }
   ],
   "source": [
    "t.center(50,\" \")"
   ]
  },
  {
   "cell_type": "markdown",
   "id": "0c151685",
   "metadata": {},
   "source": [
    "11.Write your own definition of compiler and interpretor without copy paste form internet in your own language\n",
    "\n",
    "Ans : Compiler will compile whole program in one go to convert machine level langaugage or Low level langauage(ex C, C++, Java etc) . whereas interpretor will compile or interpret into machine level langauage row by row(ie Python , Perl , PHP ,Perl etc) .\n",
    "\n",
    "And Python is interpreter langauage and its compied coed is hidden from user."
   ]
  },
  {
   "cell_type": "markdown",
   "id": "ab71fe38",
   "metadata": {},
   "source": [
    "12.Python is a interpreted of compiled language give a clear ans with your understanding.\n",
    "\n",
    "Ans : Python is interpreted language not compiled  one like C nad C++.Python code first converted into bytecode and after that python interpretor are responsible to convert into Machine level langauage.\n"
   ]
  },
  {
   "cell_type": "markdown",
   "id": "197ac7df",
   "metadata": {},
   "source": [
    "13.Try to write a usecase of python with your understanding\n",
    "Ans. Main use case of python is in Machine Learning algoritham ,NLP ,Deep Learning ,Computer vision and even Data Analytics."
   ]
  },
  {
   "cell_type": "code",
   "execution_count": null,
   "id": "9384d628",
   "metadata": {},
   "outputs": [],
   "source": []
  }
 ],
 "metadata": {
  "kernelspec": {
   "display_name": "Python 3",
   "language": "python",
   "name": "python3"
  },
  "language_info": {
   "codemirror_mode": {
    "name": "ipython",
    "version": 3
   },
   "file_extension": ".py",
   "mimetype": "text/x-python",
   "name": "python",
   "nbconvert_exporter": "python",
   "pygments_lexer": "ipython3",
   "version": "3.8.8"
  }
 },
 "nbformat": 4,
 "nbformat_minor": 5
}
