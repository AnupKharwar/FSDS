{
 "cells": [
  {
   "cell_type": "code",
   "execution_count": 5,
   "id": "e8ca6263",
   "metadata": {},
   "outputs": [
    {
     "name": "stdout",
     "output_type": "stream",
     "text": [
      "this is flase\n"
     ]
    }
   ],
   "source": [
    "a=10\n",
    "if a==10 :\n",
    "    print(\"thi is my first condition\")\n",
    "else :\n",
    "    print(\"this is False\")"
   ]
  },
  {
   "cell_type": "code",
   "execution_count": 8,
   "id": "2da3a8b6",
   "metadata": {},
   "outputs": [],
   "source": [
    "a=10\n",
    "if a>10 :\n",
    "    pass"
   ]
  },
  {
   "cell_type": "code",
   "execution_count": 9,
   "id": "d0bd71bf",
   "metadata": {},
   "outputs": [
    {
     "name": "stdout",
     "output_type": "stream",
     "text": [
      "False\n"
     ]
    }
   ],
   "source": [
    "a=20\n",
    "if a != 11 :\n",
    "    print(\"False\")\n",
    "else :\n",
    "    print(\"else\")"
   ]
  },
  {
   "cell_type": "code",
   "execution_count": 11,
   "id": "6321eef4",
   "metadata": {},
   "outputs": [
    {
     "name": "stdout",
     "output_type": "stream",
     "text": [
      "10\n"
     ]
    }
   ],
   "source": [
    "x = 10\n",
    "if x==12 : \n",
    "    print(\"12\")\n",
    "elif x == 10:\n",
    "    print(\"10\")\n",
    "else :\n",
    "    print(\"other\")\n"
   ]
  },
  {
   "cell_type": "code",
   "execution_count": 17,
   "id": "13ab9822",
   "metadata": {},
   "outputs": [
    {
     "name": "stdout",
     "output_type": "stream",
     "text": [
      "xy\n"
     ]
    }
   ],
   "source": [
    "x=10\n",
    "y=20\n",
    "if (x==10 and y==20):\n",
    "    print(\"xy\")"
   ]
  },
  {
   "cell_type": "code",
   "execution_count": 18,
   "id": "ef7ccc0d",
   "metadata": {},
   "outputs": [
    {
     "name": "stdout",
     "output_type": "stream",
     "text": [
      "Yes\n"
     ]
    }
   ],
   "source": [
    "price =500\n",
    "if price <= 500:\n",
    "    print(\"Yes\")\n",
    "else : \n",
    "    print(\"No\")"
   ]
  },
  {
   "cell_type": "code",
   "execution_count": 23,
   "id": "c46314f4",
   "metadata": {},
   "outputs": [
    {
     "name": "stdout",
     "output_type": "stream",
     "text": [
      "[1, 12, 3, 4, 5]\n"
     ]
    }
   ],
   "source": [
    "l=[1,2,3,4,5]\n",
    "if 2 in l :\n",
    "    l[l.index(2)] =12\n",
    "    print(l)"
   ]
  },
  {
   "cell_type": "code",
   "execution_count": 26,
   "id": "f57f9de0",
   "metadata": {},
   "outputs": [
    {
     "name": "stdout",
     "output_type": "stream",
     "text": [
      "[1, 12, 3, 4, 5]\n"
     ]
    }
   ],
   "source": [
    "l=[1,2,3,4,5]\n",
    "if 2 in l :\n",
    "    l[l.index(2)] =12\n",
    "elif 5 in l :\n",
    "    l[l.index(5)] =15\n",
    "print(l)\n",
    "    \n",
    "    "
   ]
  },
  {
   "cell_type": "code",
   "execution_count": 27,
   "id": "b43dc52b",
   "metadata": {},
   "outputs": [],
   "source": [
    "price  = 300\n",
    "if price >= 500:\n",
    "    if price >= 300:\n",
    "        print(\"buy\")\n"
   ]
  },
  {
   "cell_type": "code",
   "execution_count": 35,
   "id": "a9210ee8",
   "metadata": {},
   "outputs": [
    {
     "name": "stdout",
     "output_type": "stream",
     "text": [
      "247\n",
      "yes\n"
     ]
    }
   ],
   "source": [
    "a = 400\n",
    "b = int(input())\n",
    "if a > b:\n",
    "    if (b <= 300 and b >= 250) :\n",
    "        print(\"ok\")\n",
    "    else :\n",
    "        print(\"yes\")\n",
    "else : \n",
    "    print(\"out\")\n"
   ]
  },
  {
   "cell_type": "code",
   "execution_count": 40,
   "id": "4387845e",
   "metadata": {},
   "outputs": [
    {
     "name": "stdout",
     "output_type": "stream",
     "text": [
      "600\n"
     ]
    }
   ],
   "source": [
    "m = int(input())\n",
    "if m >= 600 :\n",
    "    if m>600:\n",
    "        print(\"GRE\")\n",
    "else :\n",
    "    print(\"No GRE\")\n",
    "    if (m <= 500 and m >= 400):\n",
    "        print(\"Tofel\")\n",
    "    else:\n",
    "        \n",
    "        print(\"something else\")"
   ]
  },
  {
   "cell_type": "code",
   "execution_count": 42,
   "id": "9b0cb57d",
   "metadata": {},
   "outputs": [
    {
     "name": "stdout",
     "output_type": "stream",
     "text": [
      "enter a floating point number :600\n",
      "postive\n"
     ]
    }
   ],
   "source": [
    "val=float(input(\"enter a floating point number :\"))\n",
    "if val >= 0:\n",
    "    if val == 0:\n",
    "        print(\"Zero\")\n",
    "    else:\n",
    "        print(\"postive\")\n",
    "else:\n",
    "    print(\"Negative\")"
   ]
  },
  {
   "cell_type": "code",
   "execution_count": 52,
   "id": "6bfeb2bf",
   "metadata": {},
   "outputs": [
    {
     "name": "stdout",
     "output_type": "stream",
     "text": [
      "pass the list : 12345\n",
      "['1', '2', '3', '4', '5']\n",
      "2  and 5\n",
      "3 also\n"
     ]
    }
   ],
   "source": [
    "l=list(input(\"pass the list : \"))\n",
    "print(l)\n",
    "if('2' in l and '5' in l):\n",
    "    print(\"2  and 5\")\n",
    "    if('3' in l):\n",
    "        print(\"3 also\")\n",
    "    \n",
    "    else :\n",
    "        print(\"Nothing\")"
   ]
  },
  {
   "cell_type": "code",
   "execution_count": 55,
   "id": "396d92fa",
   "metadata": {},
   "outputs": [
    {
     "name": "stdout",
     "output_type": "stream",
     "text": [
      "got it\n",
      "dict_values(['val1', 'val2'])\n"
     ]
    }
   ],
   "source": [
    "d={\"key1\":\"val1\",\"key2\":\"val2\"}\n",
    "if d[\"key1\"]==\"val1\" and d[\"key2\"]==\"val2\":\n",
    "    print(\"got it\")\n",
    "    print(d.values())"
   ]
  },
  {
   "cell_type": "code",
   "execution_count": 56,
   "id": "25df1608",
   "metadata": {},
   "outputs": [
    {
     "name": "stdout",
     "output_type": "stream",
     "text": [
      "1\n",
      "2\n",
      "3\n",
      "4\n",
      "5\n",
      "anup\n",
      "3.2\n",
      "True\n"
     ]
    }
   ],
   "source": [
    "l=[1,2,3,4,5,\"anup\",3.2,True]\n",
    "for x in l :\n",
    "    print(x)"
   ]
  },
  {
   "cell_type": "code",
   "execution_count": 70,
   "id": "a746c303",
   "metadata": {},
   "outputs": [
    {
     "name": "stdout",
     "output_type": "stream",
     "text": [
      "2\n",
      "3\n",
      "4\n",
      "5\n",
      "6\n",
      "anup1\n",
      "4.2\n",
      "True\n",
      "7\n"
     ]
    }
   ],
   "source": [
    "l=[1,2,3,4,5,\"anup\",3.2,True,6]\n",
    "for x in l :\n",
    "    if type(x)==int or type(x)==float:\n",
    "        x=x+1\n",
    "    if type(x)==str:\n",
    "        x=x+\"1\"\n",
    "    print(x)\n",
    "    if x == 10:\n",
    "        break"
   ]
  },
  {
   "cell_type": "code",
   "execution_count": null,
   "id": "a218e912",
   "metadata": {},
   "outputs": [],
   "source": []
  },
  {
   "cell_type": "code",
   "execution_count": null,
   "id": "e1574201",
   "metadata": {},
   "outputs": [],
   "source": []
  }
 ],
 "metadata": {
  "kernelspec": {
   "display_name": "Python 3",
   "language": "python",
   "name": "python3"
  },
  "language_info": {
   "codemirror_mode": {
    "name": "ipython",
    "version": 3
   },
   "file_extension": ".py",
   "mimetype": "text/x-python",
   "name": "python",
   "nbconvert_exporter": "python",
   "pygments_lexer": "ipython3",
   "version": "3.8.8"
  }
 },
 "nbformat": 4,
 "nbformat_minor": 5
}
