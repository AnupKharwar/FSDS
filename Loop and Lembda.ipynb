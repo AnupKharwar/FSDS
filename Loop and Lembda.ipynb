{
 "cells": [
  {
   "cell_type": "code",
   "execution_count": 7,
   "id": "f9a29340",
   "metadata": {},
   "outputs": [],
   "source": [
    "d={'k1':[1,2,3,4,5],'k2':\"v2\",'k3':\"v3\",'k4':\"v4\",'k5':\"v5\"}"
   ]
  },
  {
   "cell_type": "code",
   "execution_count": 8,
   "id": "3790ea0a",
   "metadata": {},
   "outputs": [
    {
     "data": {
      "text/plain": [
       "{'k1': [1, 2, 3, 4, 5], 'k2': 'v2', 'k3': 'v3', 'k4': 'v4', 'k5': 'v5'}"
      ]
     },
     "execution_count": 8,
     "metadata": {},
     "output_type": "execute_result"
    }
   ],
   "source": [
    "d"
   ]
  },
  {
   "cell_type": "code",
   "execution_count": 26,
   "id": "f50c9c86",
   "metadata": {},
   "outputs": [
    {
     "name": "stdout",
     "output_type": "stream",
     "text": [
      "[1, 2, 3, 4, 5]\n",
      "4\n"
     ]
    }
   ],
   "source": [
    "l=[]\n",
    "for i in d:\n",
    "#     print(type(d[i]))\n",
    "    if type(d[i])==list:\n",
    "        print(d[i])\n",
    "        for x in d[i]:\n",
    "            if x==4:\n",
    "                print(x)\n",
    "    \n",
    "    \n",
    "    "
   ]
  },
  {
   "cell_type": "code",
   "execution_count": 1,
   "id": "48dbecff",
   "metadata": {},
   "outputs": [],
   "source": [
    "def fun1(*a):\n",
    "    return a"
   ]
  },
  {
   "cell_type": "code",
   "execution_count": 3,
   "id": "8cb79879",
   "metadata": {},
   "outputs": [
    {
     "data": {
      "text/plain": [
       "(1, 2, 3, 4)"
      ]
     },
     "execution_count": 3,
     "metadata": {},
     "output_type": "execute_result"
    }
   ],
   "source": [
    "fun1(1,2,3,4)"
   ]
  },
  {
   "cell_type": "code",
   "execution_count": 4,
   "id": "46b257b9",
   "metadata": {},
   "outputs": [],
   "source": [
    "def fun2(**a):\n",
    "    return a"
   ]
  },
  {
   "cell_type": "code",
   "execution_count": 10,
   "id": "a4c8d210",
   "metadata": {},
   "outputs": [
    {
     "data": {
      "text/plain": [
       "{'a': 1, 'b': 2, 'c': [1, 2, 3, 4]}"
      ]
     },
     "execution_count": 10,
     "metadata": {},
     "output_type": "execute_result"
    }
   ],
   "source": [
    "fun2(a=1,b=2,c=[1,2,3,4])"
   ]
  },
  {
   "cell_type": "code",
   "execution_count": 14,
   "id": "e832e5f3",
   "metadata": {},
   "outputs": [],
   "source": [
    "def fun3(*n):\n",
    "    s=0\n",
    "    for i in n:\n",
    "        if type(i)==int:\n",
    "            s=s+i\n",
    "    return s\n",
    "            "
   ]
  },
  {
   "cell_type": "code",
   "execution_count": 15,
   "id": "486f5709",
   "metadata": {},
   "outputs": [
    {
     "data": {
      "text/plain": [
       "15"
      ]
     },
     "execution_count": 15,
     "metadata": {},
     "output_type": "execute_result"
    }
   ],
   "source": [
    "fun3(1,2,3,4,5)"
   ]
  },
  {
   "cell_type": "code",
   "execution_count": 16,
   "id": "0b69a787",
   "metadata": {},
   "outputs": [],
   "source": [
    "n=lambda a,b:a+b"
   ]
  },
  {
   "cell_type": "code",
   "execution_count": 17,
   "id": "a4d449f7",
   "metadata": {},
   "outputs": [
    {
     "data": {
      "text/plain": [
       "8"
      ]
     },
     "execution_count": 17,
     "metadata": {},
     "output_type": "execute_result"
    }
   ],
   "source": [
    "n(3,5)"
   ]
  },
  {
   "cell_type": "code",
   "execution_count": 18,
   "id": "ba9f5624",
   "metadata": {},
   "outputs": [],
   "source": [
    "p=lambda *a : a"
   ]
  },
  {
   "cell_type": "code",
   "execution_count": 19,
   "id": "f406c82a",
   "metadata": {},
   "outputs": [
    {
     "data": {
      "text/plain": [
       "(1, 2, 3, 4, 5)"
      ]
     },
     "execution_count": 19,
     "metadata": {},
     "output_type": "execute_result"
    }
   ],
   "source": [
    "p(1,2,3,4,5)"
   ]
  },
  {
   "cell_type": "code",
   "execution_count": 21,
   "id": "4629bbc5",
   "metadata": {},
   "outputs": [],
   "source": [
    "# comprihension exp"
   ]
  },
  {
   "cell_type": "code",
   "execution_count": 24,
   "id": "e6513e1b",
   "metadata": {},
   "outputs": [
    {
     "data": {
      "text/plain": [
       "[1, 2, 4, 5, 6, 6, 7]"
      ]
     },
     "execution_count": 24,
     "metadata": {},
     "output_type": "execute_result"
    }
   ],
   "source": [
    "s=(1,2,4,5,6,6,7)\n",
    "l=[]\n",
    "for i in s:\n",
    "    l.append(i)\n",
    "l"
   ]
  },
  {
   "cell_type": "code",
   "execution_count": 25,
   "id": "a8bd823a",
   "metadata": {},
   "outputs": [
    {
     "data": {
      "text/plain": [
       "[1, 2, 4, 5, 6, 6, 7]"
      ]
     },
     "execution_count": 25,
     "metadata": {},
     "output_type": "execute_result"
    }
   ],
   "source": [
    "[i for i in s]"
   ]
  },
  {
   "cell_type": "code",
   "execution_count": 32,
   "id": "5e3c7c0c",
   "metadata": {},
   "outputs": [
    {
     "data": {
      "text/plain": [
       "[1, 3, 5, 7, 9]"
      ]
     },
     "execution_count": 32,
     "metadata": {},
     "output_type": "execute_result"
    }
   ],
   "source": [
    "# Sqre of num\n",
    "[i for i in range(1,10,2)]"
   ]
  },
  {
   "cell_type": "code",
   "execution_count": 33,
   "id": "c93cb92e",
   "metadata": {},
   "outputs": [],
   "source": [
    "l= lambda *a: [i for i in a] "
   ]
  },
  {
   "cell_type": "code",
   "execution_count": 34,
   "id": "28165fb1",
   "metadata": {},
   "outputs": [
    {
     "data": {
      "text/plain": [
       "[1, 2, 3, 4, 5, 6, (1, 2, 3)]"
      ]
     },
     "execution_count": 34,
     "metadata": {},
     "output_type": "execute_result"
    }
   ],
   "source": [
    "l(1,2,3,4,5,6,(1,2,3))"
   ]
  },
  {
   "cell_type": "code",
   "execution_count": 38,
   "id": "75139546",
   "metadata": {},
   "outputs": [
    {
     "name": "stdout",
     "output_type": "stream",
     "text": [
      "1 ,3 ,5 ,7 ,9 ,11 ,13 ,15 ,17 ,19 ,21 ,23 ,25 ,27 ,29 ,31 ,33 ,35 ,37 ,39 ,41 ,43 ,45 ,47 ,49 ,51 ,53 ,55 ,57 ,59 ,61 ,63 ,65 ,67 ,69 ,71 ,73 ,75 ,77 ,79 ,81 ,83 ,85 ,87 ,89 ,91 ,93 ,95 ,97 ,99 ,101 ,103 ,105 ,107 ,109 ,111 ,113 ,115 ,117 ,119 ,121 ,123 ,125 ,127 ,129 ,131 ,133 ,135 ,137 ,139 ,141 ,143 ,145 ,147 ,149 ,151 ,153 ,155 ,157 ,159 ,161 ,163 ,165 ,167 ,169 ,171 ,173 ,175 ,177 ,179 ,181 ,183 ,185 ,187 ,189 ,191 ,193 ,195 ,197 ,199 ,201 ,203 ,205 ,207 ,209 ,211 ,213 ,215 ,217 ,219 ,221 ,223 ,225 ,227 ,229 ,231 ,233 ,235 ,237 ,239 ,241 ,243 ,245 ,247 ,249 ,251 ,253 ,255 ,257 ,259 ,261 ,263 ,265 ,267 ,269 ,271 ,273 ,275 ,277 ,279 ,281 ,283 ,285 ,287 ,289 ,291 ,293 ,295 ,297 ,299 ,301 ,303 ,305 ,307 ,309 ,311 ,313 ,315 ,317 ,319 ,321 ,323 ,325 ,327 ,329 ,331 ,333 ,335 ,337 ,339 ,341 ,343 ,345 ,347 ,349 ,351 ,353 ,355 ,357 ,359 ,361 ,363 ,365 ,367 ,369 ,371 ,373 ,375 ,377 ,379 ,381 ,383 ,385 ,387 ,389 ,391 ,393 ,395 ,397 ,399 ,401 ,403 ,405 ,407 ,409 ,411 ,413 ,415 ,417 ,419 ,421 ,423 ,425 ,427 ,429 ,431 ,433 ,435 ,437 ,439 ,441 ,443 ,445 ,447 ,449 ,451 ,453 ,455 ,457 ,459 ,461 ,463 ,465 ,467 ,469 ,471 ,473 ,475 ,477 ,479 ,481 ,483 ,485 ,487 ,489 ,491 ,493 ,495 ,497 ,499 ,501 ,503 ,505 ,507 ,509 ,511 ,513 ,515 ,517 ,519 ,521 ,523 ,525 ,527 ,529 ,531 ,533 ,535 ,537 ,539 ,541 ,543 ,545 ,547 ,549 ,551 ,553 ,555 ,557 ,559 ,561 ,563 ,565 ,567 ,569 ,571 ,573 ,575 ,577 ,579 ,581 ,583 ,585 ,587 ,589 ,591 ,593 ,595 ,597 ,599 ,601 ,603 ,605 ,607 ,609 ,611 ,613 ,615 ,617 ,619 ,621 ,623 ,625 ,627 ,629 ,631 ,633 ,635 ,637 ,639 ,641 ,643 ,645 ,647 ,649 ,651 ,653 ,655 ,657 ,659 ,661 ,663 ,665 ,667 ,669 ,671 ,673 ,675 ,677 ,679 ,681 ,683 ,685 ,687 ,689 ,691 ,693 ,695 ,697 ,699 ,701 ,703 ,705 ,707 ,709 ,711 ,713 ,715 ,717 ,719 ,721 ,723 ,725 ,727 ,729 ,731 ,733 ,735 ,737 ,739 ,741 ,743 ,745 ,747 ,749 ,751 ,753 ,755 ,757 ,759 ,761 ,763 ,765 ,767 ,769 ,771 ,773 ,775 ,777 ,779 ,781 ,783 ,785 ,787 ,789 ,791 ,793 ,795 ,797 ,799 ,801 ,803 ,805 ,807 ,809 ,811 ,813 ,815 ,817 ,819 ,821 ,823 ,825 ,827 ,829 ,831 ,833 ,835 ,837 ,839 ,841 ,843 ,845 ,847 ,849 ,851 ,853 ,855 ,857 ,859 ,861 ,863 ,865 ,867 ,869 ,871 ,873 ,875 ,877 ,879 ,881 ,883 ,885 ,887 ,889 ,891 ,893 ,895 ,897 ,899 ,901 ,903 ,905 ,907 ,909 ,911 ,913 ,915 ,917 ,919 ,921 ,923 ,925 ,927 ,929 ,931 ,933 ,935 ,937 ,939 ,941 ,943 ,945 ,947 ,949 ,951 ,953 ,955 ,957 ,959 ,961 ,963 ,965 ,967 ,969 ,971 ,973 ,975 ,977 ,979 ,981 ,983 ,985 ,987 ,989 ,991 ,993 ,995 ,997 ,999 ,"
     ]
    }
   ],
   "source": [
    "# prime Number between 1 to 1000\n",
    "for i in range(1000):\n",
    "    if i%2!=0:\n",
    "        print(i,\",\",end=\"\")"
   ]
  },
  {
   "cell_type": "code",
   "execution_count": 67,
   "id": "b4277c60",
   "metadata": {},
   "outputs": [],
   "source": [
    "def custom_print(*s):\n",
    "    if len(s)==1:\n",
    "        p=\"\"\n",
    "        for i in s:\n",
    "            p=p+i\n",
    "        return p"
   ]
  },
  {
   "cell_type": "code",
   "execution_count": 41,
   "id": "eb136c7e",
   "metadata": {},
   "outputs": [],
   "source": [
    "def test(**s):\n",
    "    x=s\n",
    "    for i in x:\n",
    "        if type(x[i])==str:\n",
    "            print(x[i])"
   ]
  },
  {
   "cell_type": "code",
   "execution_count": 46,
   "id": "49d101e5",
   "metadata": {},
   "outputs": [
    {
     "name": "stdout",
     "output_type": "stream",
     "text": [
      "anup\n"
     ]
    }
   ],
   "source": [
    "test(a=1,b=\"anup\",c=2)"
   ]
  },
  {
   "cell_type": "code",
   "execution_count": 69,
   "id": "2716fd72",
   "metadata": {},
   "outputs": [
    {
     "data": {
      "text/plain": [
       "'anup'"
      ]
     },
     "execution_count": 69,
     "metadata": {},
     "output_type": "execute_result"
    }
   ],
   "source": [
    "custom_print(\"anup\")"
   ]
  },
  {
   "cell_type": "code",
   "execution_count": null,
   "id": "66a6c223",
   "metadata": {},
   "outputs": [],
   "source": []
  }
 ],
 "metadata": {
  "kernelspec": {
   "display_name": "Python 3",
   "language": "python",
   "name": "python3"
  },
  "language_info": {
   "codemirror_mode": {
    "name": "ipython",
    "version": 3
   },
   "file_extension": ".py",
   "mimetype": "text/x-python",
   "name": "python",
   "nbconvert_exporter": "python",
   "pygments_lexer": "ipython3",
   "version": "3.8.8"
  }
 },
 "nbformat": 4,
 "nbformat_minor": 5
}
